{
  "cells": [
    {
      "cell_type": "markdown",
      "source": [
        "# **Aula 1 - Preparando os Dados**"
      ],
      "metadata": {
        "id": "BwhP2rhUGI_k"
      }
    },
    {
      "cell_type": "code",
      "source": [
        "!pip install pyspark"
      ],
      "metadata": {
        "id": "4Gs-5LKuvWmE",
        "colab": {
          "base_uri": "https://localhost:8080/"
        },
        "outputId": "7cce4ae4-4c02-461d-a8f4-ad8aa7df205d"
      },
      "execution_count": null,
      "outputs": [
        {
          "output_type": "stream",
          "name": "stdout",
          "text": [
            "Looking in indexes: https://pypi.org/simple, https://us-python.pkg.dev/colab-wheels/public/simple/\n",
            "Collecting pyspark\n",
            "  Downloading pyspark-3.3.1.tar.gz (281.4 MB)\n",
            "\u001b[K     |████████████████████████████████| 281.4 MB 37 kB/s \n",
            "\u001b[?25hCollecting py4j==0.10.9.5\n",
            "  Downloading py4j-0.10.9.5-py2.py3-none-any.whl (199 kB)\n",
            "\u001b[K     |████████████████████████████████| 199 kB 56.1 MB/s \n",
            "\u001b[?25hBuilding wheels for collected packages: pyspark\n",
            "  Building wheel for pyspark (setup.py) ... \u001b[?25l\u001b[?25hdone\n",
            "  Created wheel for pyspark: filename=pyspark-3.3.1-py2.py3-none-any.whl size=281845512 sha256=9f16c1527f597a9f541654802998ef6950279ec166d9f6765fec225e9c8ea0c6\n",
            "  Stored in directory: /root/.cache/pip/wheels/43/dc/11/ec201cd671da62fa9c5cc77078235e40722170ceba231d7598\n",
            "Successfully built pyspark\n",
            "Installing collected packages: py4j, pyspark\n",
            "Successfully installed py4j-0.10.9.5 pyspark-3.3.1\n"
          ]
        }
      ]
    },
    {
      "cell_type": "markdown",
      "source": [
        "### [SparkSession](https://spark.apache.org/docs/latest/api/python/reference/api/pyspark.sql.SparkSession.html)\n",
        "\n",
        "O ponto de entrada para programar o Spark com a API Dataset e DataFrame.\n",
        "\n",
        "Uma SparkSession pode ser utilizada para criar DataFrames, registrar DataFrames como tabelas, executar consultas SQL em tabelas, armazenar em cache e ler arquivos parquet. Para criar uma SparkSession, use o seguinte padrão de construtor:"
      ],
      "metadata": {
        "id": "43dP4NVZOEI2"
      }
    },
    {
      "cell_type": "code",
      "source": [
        "from pyspark.sql import SparkSession\n",
        "\n",
        "spark = SparkSession.builder\\\n",
        "    .master('local[*]')\\\n",
        "    .appName('Regressao com Spark')\\\n",
        "    .getOrCreate()\n",
        "\n",
        "spark\n"
      ],
      "metadata": {
        "id": "1_WixBVIvvB-",
        "colab": {
          "base_uri": "https://localhost:8080/",
          "height": 222
        },
        "outputId": "1463d0a6-ebe2-4e80-9886-929336bfa30e"
      },
      "execution_count": null,
      "outputs": [
        {
          "output_type": "execute_result",
          "data": {
            "text/plain": [
              "<pyspark.sql.session.SparkSession at 0x7fa19a579400>"
            ],
            "text/html": [
              "\n",
              "            <div>\n",
              "                <p><b>SparkSession - in-memory</b></p>\n",
              "                \n",
              "        <div>\n",
              "            <p><b>SparkContext</b></p>\n",
              "\n",
              "            <p><a href=\"http://f9d825172511:4040\">Spark UI</a></p>\n",
              "\n",
              "            <dl>\n",
              "              <dt>Version</dt>\n",
              "                <dd><code>v3.3.1</code></dd>\n",
              "              <dt>Master</dt>\n",
              "                <dd><code>local[*]</code></dd>\n",
              "              <dt>AppName</dt>\n",
              "                <dd><code>Regressao com Spark</code></dd>\n",
              "            </dl>\n",
              "        </div>\n",
              "        \n",
              "            </div>\n",
              "        "
            ]
          },
          "metadata": {},
          "execution_count": 2
        }
      ]
    },
    {
      "cell_type": "markdown",
      "source": [
        "**Carregamento dos Dados**"
      ],
      "metadata": {
        "id": "BOQSXCsB-XJ4"
      }
    },
    {
      "cell_type": "markdown",
      "source": [
        "### Montando o drive"
      ],
      "metadata": {
        "id": "h36RrRMuPTet"
      }
    },
    {
      "cell_type": "code",
      "source": [
        "from google.colab import drive\n",
        "drive.mount('/content/drive')"
      ],
      "metadata": {
        "id": "iIjhbXvgPMSy",
        "colab": {
          "base_uri": "https://localhost:8080/"
        },
        "outputId": "357aaedd-bd28-452f-b38a-a7d9893c1285"
      },
      "execution_count": null,
      "outputs": [
        {
          "output_type": "stream",
          "name": "stdout",
          "text": [
            "Mounted at /content/drive\n"
          ]
        }
      ]
    },
    {
      "cell_type": "code",
      "source": [
        "dados = spark.read.parquet(\n",
        "    '/content/drive/MyDrive/Colab Notebooks/Imercao PySpark/parquet'\n",
        ")"
      ],
      "metadata": {
        "id": "bItkwybT-BOG"
      },
      "execution_count": null,
      "outputs": []
    },
    {
      "cell_type": "code",
      "source": [
        "dados"
      ],
      "metadata": {
        "id": "WMx7nLWW-BIV",
        "colab": {
          "base_uri": "https://localhost:8080/"
        },
        "outputId": "00220b63-7ffb-42f2-c064-7a410f949a46"
      },
      "execution_count": null,
      "outputs": [
        {
          "output_type": "execute_result",
          "data": {
            "text/plain": [
              "DataFrame[andar: bigint, area_total: int, area_util: int, banheiros: int, caracteristicas: array<string>, id: string, quartos: int, suites: int, tipo_anuncio: string, tipo_unidade: string, tipo_uso: string, vaga: int, bairro: string, zona: string, condominio: int, iptu: int, tipo: string, valor: int]"
            ]
          },
          "metadata": {},
          "execution_count": 5
        }
      ]
    },
    {
      "cell_type": "code",
      "source": [
        "dados.show(5,truncate=False)"
      ],
      "metadata": {
        "id": "DyXF17Oo-BCw",
        "colab": {
          "base_uri": "https://localhost:8080/"
        },
        "outputId": "822cb3b2-bd41-4ce9-c7ae-5180e2ad308a"
      },
      "execution_count": null,
      "outputs": [
        {
          "output_type": "stream",
          "name": "stdout",
          "text": [
            "+-----+----------+---------+---------+-------------------------------------------------------------------------------------------------------------------------------+------------------------------------+-------+------+------------+------------+-----------+----+---------+----------+----------+----+-----+-----+\n",
            "|andar|area_total|area_util|banheiros|caracteristicas                                                                                                                |id                                  |quartos|suites|tipo_anuncio|tipo_unidade|tipo_uso   |vaga|bairro   |zona      |condominio|iptu|tipo |valor|\n",
            "+-----+----------+---------+---------+-------------------------------------------------------------------------------------------------------------------------------+------------------------------------+-------+------+------------+------------+-----------+----+---------+----------+----------+----+-----+-----+\n",
            "|3    |43        |43       |1        |[Academia, Churrasqueira, Playground, Salão de festas, Condomínio fechado, Portão eletrônico, Portaria 24h, Animais permitidos]|d2e3a3aa-09b5-45a0-9dcd-918847cd3ca3|2      |null  |Usado       |Apartamento |Residencial|1   |Paciência|Zona Oeste|245       |null|Venda|15000|\n",
            "|2    |42        |42       |1        |[Churrasqueira, Playground, Salão de festas, Condomínio fechado, Portão eletrônico, Portaria 24h, Animais permitidos]          |085bab2c-87ad-452a-bd0f-8b1451509f84|2      |null  |Usado       |Apartamento |Residencial|1   |Paciência|Zona Oeste|0         |0   |Venda|15000|\n",
            "|1    |41        |41       |1        |[Portaria 24h, Condomínio fechado, Playground, Salão de festas, Churrasqueira, Portão eletrônico]                              |18d22cbe-1b86-4764-8def-70c615f15a61|2      |null  |Usado       |Apartamento |Residencial|1   |Guaratiba|Zona Oeste|0         |0   |Venda|20000|\n",
            "|3    |43        |43       |1        |[Churrasqueira, Piscina, Playground, Salão de festas, Condomínio fechado, Portão eletrônico, Portaria 24h, Animais permitidos] |bed8a354-9317-4426-b27e-1c798f864271|2      |null  |Usado       |Apartamento |Residencial|0   |Cosmos   |Zona Oeste|285       |null|Venda|20000|\n",
            "|2    |43        |43       |1        |[Academia, Churrasqueira, Playground, Salão de festas, Condomínio fechado, Portão eletrônico, Portaria 24h, Animais permitidos]|12a13315-d67f-48f0-9497-017b83252781|2      |null  |Usado       |Apartamento |Residencial|1   |Guaratiba|Zona Oeste|245       |null|Venda|15000|\n",
            "+-----+----------+---------+---------+-------------------------------------------------------------------------------------------------------------------------------+------------------------------------+-------+------+------------+------------+-----------+----+---------+----------+----------+----+-----+-----+\n",
            "only showing top 5 rows\n",
            "\n"
          ]
        }
      ]
    },
    {
      "cell_type": "code",
      "source": [
        "dados.count()"
      ],
      "metadata": {
        "id": "wOXJOUgGpi9z",
        "colab": {
          "base_uri": "https://localhost:8080/"
        },
        "outputId": "66d0389a-1281-42d5-c280-edf950819632"
      },
      "execution_count": null,
      "outputs": [
        {
          "output_type": "execute_result",
          "data": {
            "text/plain": [
              "66348"
            ]
          },
          "metadata": {},
          "execution_count": 7
        }
      ]
    },
    {
      "cell_type": "markdown",
      "source": [
        "## **Seleção de *Features***"
      ],
      "metadata": {
        "id": "blFAMaSBVV2u"
      }
    },
    {
      "cell_type": "code",
      "source": [
        "dados.printSchema()"
      ],
      "metadata": {
        "id": "teee6m27l-8e",
        "colab": {
          "base_uri": "https://localhost:8080/"
        },
        "outputId": "67e2fce4-5bce-435f-f781-62cdcfcb20d4"
      },
      "execution_count": null,
      "outputs": [
        {
          "output_type": "stream",
          "name": "stdout",
          "text": [
            "root\n",
            " |-- andar: long (nullable = true)\n",
            " |-- area_total: integer (nullable = true)\n",
            " |-- area_util: integer (nullable = true)\n",
            " |-- banheiros: integer (nullable = true)\n",
            " |-- caracteristicas: array (nullable = true)\n",
            " |    |-- element: string (containsNull = true)\n",
            " |-- id: string (nullable = true)\n",
            " |-- quartos: integer (nullable = true)\n",
            " |-- suites: integer (nullable = true)\n",
            " |-- tipo_anuncio: string (nullable = true)\n",
            " |-- tipo_unidade: string (nullable = true)\n",
            " |-- tipo_uso: string (nullable = true)\n",
            " |-- vaga: integer (nullable = true)\n",
            " |-- bairro: string (nullable = true)\n",
            " |-- zona: string (nullable = true)\n",
            " |-- condominio: integer (nullable = true)\n",
            " |-- iptu: integer (nullable = true)\n",
            " |-- tipo: string (nullable = true)\n",
            " |-- valor: integer (nullable = true)\n",
            "\n"
          ]
        }
      ]
    },
    {
      "cell_type": "markdown",
      "source": [
        "Algumas colunas possuem apenas um único valor. Essas colunas estão dessa forma devido aos filtros que foram realizados na base de dados durante a semana 1. Dessa forma, nós podemos excluir essas colunas, pois como possuem apenas um valor não serão relevantes para o modelo."
      ],
      "metadata": {
        "id": "jIrNGxpKFkLQ"
      }
    },
    {
      "cell_type": "code",
      "source": [
        "dados\\\n",
        "  .select(\n",
        "    'tipo_anuncio',\n",
        "    'tipo_unidade',\n",
        "    'tipo_uso'\n",
        "    )\\\n",
        "    .distinct().count()"
      ],
      "metadata": {
        "id": "tNEl8-Pg-A8f",
        "colab": {
          "base_uri": "https://localhost:8080/"
        },
        "outputId": "ff452ed7-10ea-4af5-c3b6-4206633c4787"
      },
      "execution_count": null,
      "outputs": [
        {
          "output_type": "execute_result",
          "data": {
            "text/plain": [
              "1"
            ]
          },
          "metadata": {},
          "execution_count": 9
        }
      ]
    },
    {
      "cell_type": "code",
      "source": [
        "dados = dados.drop('tipo_anuncio',\n",
        "    'tipo_unidade',\n",
        "    'tipo_uso'\n",
        "    )\n",
        "dados.select(\"*\").distinct().show(5)"
      ],
      "metadata": {
        "colab": {
          "base_uri": "https://localhost:8080/"
        },
        "id": "xqGOwIdI5B35",
        "outputId": "8413295d-bbf7-435c-d866-426813619f61"
      },
      "execution_count": null,
      "outputs": [
        {
          "output_type": "stream",
          "name": "stdout",
          "text": [
            "+-----+----------+---------+---------+--------------------+--------------------+-------+------+----+--------------+----------+----------+----+-----+------+\n",
            "|andar|area_total|area_util|banheiros|     caracteristicas|                  id|quartos|suites|vaga|        bairro|      zona|condominio|iptu| tipo| valor|\n",
            "+-----+----------+---------+---------+--------------------+--------------------+-------+------+----+--------------+----------+----------+----+-----+------+\n",
            "|    3|        42|       42|        1|[Condomínio fecha...|986252d5-9f8c-420...|      2|  null|null|Penha Circular|Zona Norte|        88|null|Venda|120000|\n",
            "|    0|        43|       43|        1|                  []|e1385a2b-2cf6-47d...|      2|     0|   0|     Cascadura|Zona Norte|        50|   0|Venda|130000|\n",
            "|    0|        82|       82|        2|[Churrasqueira, E...|bc47b8bb-cd79-4be...|      2|     0|   1|    Praça Seca|Zona Oeste|       600| 556|Venda|180000|\n",
            "|    1|      null|       85|        2|                  []|df3f6d27-5efc-4e8...|      2|  null|null|  Engenho Novo|Zona Norte|      null|  61|Venda|180000|\n",
            "|    1|      null|       50|        1|[Academia, Churra...|874370bd-7412-459...|      2|  null|null|       Taquara|Zona Oeste|         0|   0|Venda|190000|\n",
            "+-----+----------+---------+---------+--------------------+--------------------+-------+------+----+--------------+----------+----------+----+-----+------+\n",
            "only showing top 5 rows\n",
            "\n"
          ]
        }
      ]
    },
    {
      "cell_type": "markdown",
      "source": [
        "Analise as colunas area_total e area_util. Essas colunas parecem ter muitos valores iguais (conferir isso é importante). Será que é necessário deixar as duas colunas no nosso DataFrame? Qual delas possui mais dados nulos?"
      ],
      "metadata": {
        "id": "cfTRYHnm5wEf"
      }
    },
    {
      "cell_type": "code",
      "source": [
        "dados\\\n",
        "  .select(\n",
        "    'area_total',\n",
        "    'area_util',\n",
        "    )\\\n",
        "    .where('area_total == area_util' )\\\n",
        "    .count()"
      ],
      "metadata": {
        "id": "gfuhMBNzNOPS",
        "colab": {
          "base_uri": "https://localhost:8080/"
        },
        "outputId": "e330bda3-3f9f-4643-b180-140f2391569c"
      },
      "execution_count": null,
      "outputs": [
        {
          "output_type": "execute_result",
          "data": {
            "text/plain": [
              "55185"
            ]
          },
          "metadata": {},
          "execution_count": 11
        }
      ]
    },
    {
      "cell_type": "markdown",
      "source": [
        "55185 resultados de um total de 66348 onde area total e area util sao iguais. Vamos contar quantos valores nulos tem em cada coluna"
      ],
      "metadata": {
        "id": "qjHp7x9e6V5i"
      }
    },
    {
      "cell_type": "code",
      "source": [
        "from pyspark.sql.functions import isnan, when, count, col\n",
        "dados.select([count(when(isnan(c) | col(c).isNull(), c)).alias(c) for c in ['area_total','area_util']]).show()"
      ],
      "metadata": {
        "id": "5pxKC1S6dK1w",
        "colab": {
          "base_uri": "https://localhost:8080/"
        },
        "outputId": "a7f072da-288e-4104-f2cc-5183dcf6535b"
      },
      "execution_count": null,
      "outputs": [
        {
          "output_type": "stream",
          "name": "stdout",
          "text": [
            "+----------+---------+\n",
            "|area_total|area_util|\n",
            "+----------+---------+\n",
            "|      9186|        0|\n",
            "+----------+---------+\n",
            "\n"
          ]
        }
      ]
    },
    {
      "cell_type": "markdown",
      "source": [
        "Podemos observar que 9186 resultados da area total sao nulos e nenhum na area util. Dado que muitos resultados sao iguais vamos manter somente a area util"
      ],
      "metadata": {
        "id": "d4Nv4JliBcCd"
      }
    },
    {
      "cell_type": "code",
      "source": [
        "  dataset = dados\\\n",
        "  .select(\n",
        "    \"*\"\n",
        "    )\\\n",
        "    .drop('area_total')"
      ],
      "metadata": {
        "id": "WJ_3uhm5ggGa"
      },
      "execution_count": null,
      "outputs": []
    },
    {
      "cell_type": "markdown",
      "source": [
        "## **Converter os tipos das colunas**\n",
        "\n",
        "Ao analisarmos a estrutura da nossa base de dados, vamos notar que os tipos dos dados de cada coluna estão incorretos e por isso é necessário convertê-los."
      ],
      "metadata": {
        "id": "FLn2a7ym7MLp"
      }
    },
    {
      "cell_type": "code",
      "source": [
        "dataset.printSchema()"
      ],
      "metadata": {
        "id": "E_Hs2oXj9-pq",
        "colab": {
          "base_uri": "https://localhost:8080/"
        },
        "outputId": "7fe8e1a5-e90c-4205-990b-eea4aa2b23b0"
      },
      "execution_count": null,
      "outputs": [
        {
          "output_type": "stream",
          "name": "stdout",
          "text": [
            "root\n",
            " |-- andar: long (nullable = true)\n",
            " |-- area_util: integer (nullable = true)\n",
            " |-- banheiros: integer (nullable = true)\n",
            " |-- caracteristicas: array (nullable = true)\n",
            " |    |-- element: string (containsNull = true)\n",
            " |-- id: string (nullable = true)\n",
            " |-- quartos: integer (nullable = true)\n",
            " |-- suites: integer (nullable = true)\n",
            " |-- vaga: integer (nullable = true)\n",
            " |-- bairro: string (nullable = true)\n",
            " |-- zona: string (nullable = true)\n",
            " |-- condominio: integer (nullable = true)\n",
            " |-- iptu: integer (nullable = true)\n",
            " |-- tipo: string (nullable = true)\n",
            " |-- valor: integer (nullable = true)\n",
            "\n"
          ]
        }
      ]
    },
    {
      "cell_type": "code",
      "source": [
        "from pyspark.sql.types import IntegerType, DoubleType"
      ],
      "metadata": {
        "id": "M2Qx3VnFwLth"
      },
      "execution_count": null,
      "outputs": []
    },
    {
      "cell_type": "code",
      "source": [
        "dataset = dataset\\\n",
        "  .withColumn('andar',dataset['andar'].cast(IntegerType()))\\\n",
        "  .withColumn('area_util',dataset['area_util'].cast(DoubleType()))\\\n",
        "  .withColumn('condominio',dataset['condominio'].cast(DoubleType()))\\\n",
        "  .withColumn('iptu',dataset['iptu'].cast(DoubleType()))\\\n",
        "  .withColumn('valor',dataset['valor'].cast(DoubleType()))"
      ],
      "metadata": {
        "id": "vsIC1pc5vmGd"
      },
      "execution_count": null,
      "outputs": []
    },
    {
      "cell_type": "code",
      "source": [
        "dataset.show(5)"
      ],
      "metadata": {
        "id": "HVfjs5MBw5-a",
        "colab": {
          "base_uri": "https://localhost:8080/"
        },
        "outputId": "f5c84743-577f-4bea-b499-cba27e271be2"
      },
      "execution_count": null,
      "outputs": [
        {
          "output_type": "stream",
          "name": "stdout",
          "text": [
            "+-----+---------+---------+--------------------+--------------------+-------+------+----+---------+----------+----------+----+-----+-------+\n",
            "|andar|area_util|banheiros|     caracteristicas|                  id|quartos|suites|vaga|   bairro|      zona|condominio|iptu| tipo|  valor|\n",
            "+-----+---------+---------+--------------------+--------------------+-------+------+----+---------+----------+----------+----+-----+-------+\n",
            "|    3|     43.0|        1|[Academia, Churra...|d2e3a3aa-09b5-45a...|      2|  null|   1|Paciência|Zona Oeste|     245.0|null|Venda|15000.0|\n",
            "|    2|     42.0|        1|[Churrasqueira, P...|085bab2c-87ad-452...|      2|  null|   1|Paciência|Zona Oeste|       0.0| 0.0|Venda|15000.0|\n",
            "|    1|     41.0|        1|[Portaria 24h, Co...|18d22cbe-1b86-476...|      2|  null|   1|Guaratiba|Zona Oeste|       0.0| 0.0|Venda|20000.0|\n",
            "|    3|     43.0|        1|[Churrasqueira, P...|bed8a354-9317-442...|      2|  null|   0|   Cosmos|Zona Oeste|     285.0|null|Venda|20000.0|\n",
            "|    2|     43.0|        1|[Academia, Churra...|12a13315-d67f-48f...|      2|  null|   1|Guaratiba|Zona Oeste|     245.0|null|Venda|15000.0|\n",
            "+-----+---------+---------+--------------------+--------------------+-------+------+----+---------+----------+----------+----+-----+-------+\n",
            "only showing top 5 rows\n",
            "\n"
          ]
        }
      ]
    },
    {
      "cell_type": "markdown",
      "source": [
        "## **Tratamento da coluna caracteristicas**\n",
        "\n",
        "A coluna caracteristicas possui listas de strings como conteúdo de suas linhas. No entanto, algumas dessas listas estão sem elementos.\n",
        "\n",
        "Vamos transformar essas listas sem elementos em valores nulos.\n",
        "\n",
        "Dica:\n",
        "\n",
        "Utilize os recursos da biblioteca functions do PySpark."
      ],
      "metadata": {
        "id": "vomNwAZGXEFm"
      }
    },
    {
      "cell_type": "code",
      "source": [
        "from pyspark.sql.functions import size\n",
        "dataset = dataset\\\n",
        "  .withColumn('caracteristicas', \n",
        "              when(size(col(\"caracteristicas\")) == 0, None)\\\n",
        "              .otherwise(col(\"caracteristicas\")))"
      ],
      "metadata": {
        "id": "Z5cSmXRCvmEC"
      },
      "execution_count": null,
      "outputs": []
    },
    {
      "cell_type": "markdown",
      "source": [
        "### Tratamento para dados faltantes\n",
        "\n",
        "[Functions](https://spark.apache.org/docs/latest/api/python/reference/pyspark.sql.html#functions)\n"
      ],
      "metadata": {
        "id": "lA0QydxEij3D"
      }
    },
    {
      "cell_type": "code",
      "source": [
        "from pyspark.sql import functions as f"
      ],
      "metadata": {
        "id": "yhKW5kLeUe28"
      },
      "execution_count": null,
      "outputs": []
    },
    {
      "cell_type": "code",
      "source": [
        "dataset.show()"
      ],
      "metadata": {
        "id": "iyCoitzEUoB0",
        "colab": {
          "base_uri": "https://localhost:8080/"
        },
        "outputId": "def565f6-87a4-42fd-8a7f-0ccbb9660a7a"
      },
      "execution_count": null,
      "outputs": [
        {
          "output_type": "stream",
          "name": "stdout",
          "text": [
            "+-----+---------+---------+--------------------+--------------------+-------+------+----+--------------------+----------+----------+----+-----+-------+\n",
            "|andar|area_util|banheiros|     caracteristicas|                  id|quartos|suites|vaga|              bairro|      zona|condominio|iptu| tipo|  valor|\n",
            "+-----+---------+---------+--------------------+--------------------+-------+------+----+--------------------+----------+----------+----+-----+-------+\n",
            "|    3|     43.0|        1|[Academia, Churra...|d2e3a3aa-09b5-45a...|      2|  null|   1|           Paciência|Zona Oeste|     245.0|null|Venda|15000.0|\n",
            "|    2|     42.0|        1|[Churrasqueira, P...|085bab2c-87ad-452...|      2|  null|   1|           Paciência|Zona Oeste|       0.0| 0.0|Venda|15000.0|\n",
            "|    1|     41.0|        1|[Portaria 24h, Co...|18d22cbe-1b86-476...|      2|  null|   1|           Guaratiba|Zona Oeste|       0.0| 0.0|Venda|20000.0|\n",
            "|    3|     43.0|        1|[Churrasqueira, P...|bed8a354-9317-442...|      2|  null|   0|              Cosmos|Zona Oeste|     285.0|null|Venda|20000.0|\n",
            "|    2|     43.0|        1|[Academia, Churra...|12a13315-d67f-48f...|      2|  null|   1|           Guaratiba|Zona Oeste|     245.0|null|Venda|15000.0|\n",
            "|    3|     43.0|        1|[Churrasqueira, P...|a2e6d7a5-0ff0-484...|      2|     0|   0|              Cosmos|Zona Oeste|     285.0|null|Venda|20000.0|\n",
            "|    3|     43.0|        1|[Churrasqueira, P...|a6e3173b-c950-4db...|      2|  null|   1|           Paciência|Zona Oeste|     250.0|null|Venda|15000.0|\n",
            "|    3|     43.0|        1|[Churrasqueira, P...|2e6e5dfb-206c-496...|      2|     0|   1|           Guaratiba|Zona Oeste|     245.0|null|Venda|15000.0|\n",
            "|    3|     43.0|        1|[Churrasqueira, P...|99f8d0f9-95a4-461...|      2|     0|   1|           Paciência|Zona Oeste|     245.0|null|Venda|15000.0|\n",
            "|    4|     43.0|        1|[Churrasqueira, P...|b3f44c1a-2d50-4d5...|      2|  null|   1|           Guaratiba|Zona Oeste|     240.0|null|Venda|17999.0|\n",
            "|    0|     60.0|        1|[Condomínio fechado]|dc99d9e1-4c63-41f...|      2|  null|   1|  Pedra de Guaratiba|Zona Oeste|       0.0| 0.0|Venda|15000.0|\n",
            "|    1|     43.0|        1|[Churrasqueira, P...|aa3606d8-8bcd-45e...|      2|  null|   1|              Cosmos|Zona Oeste|     240.0| 0.0|Venda|19999.0|\n",
            "|    0|     43.0|        1|[Churrasqueira, P...|df80b0d5-677c-4be...|      2|     0|   0|        Campo Grande|Zona Oeste|     245.0|null|Venda|19999.0|\n",
            "|    2|     43.0|        1|[Academia, Churra...|3d6c0218-9b7d-474...|      2|  null|   2|          Santa Cruz|Zona Oeste|     290.0|null|Venda|25000.0|\n",
            "|    3|     43.0|        1|[Salão de festas,...|304266cc-62d1-4ce...|      2|  null|null|           Guaratiba|Zona Oeste|     285.0|null|Venda|29999.0|\n",
            "|    4|     55.0|        2|[Academia, Churra...|111472a2-afa1-4a7...|      2|     1|   1|Recreio dos Bande...|Zona Oeste|       0.0| 0.0|Venda|30000.0|\n",
            "|    0|     45.0|        1|[Playground, Pisc...|275c1589-6537-4bf...|      2|     0|   1|              Cosmos|Zona Oeste|      null|null|Venda|30000.0|\n",
            "|    5|     42.0|        1|[Condomínio fecha...|ab8f367f-7509-45c...|      2|     0|   0|            Realengo|Zona Oeste|     280.0| 0.0|Venda|25000.0|\n",
            "|    1|     43.0|        1|[Churrasqueira, P...|e0a3d370-66dd-4f5...|      2|  null|   1|              Cosmos|Zona Oeste|     280.0|null|Venda|27999.0|\n",
            "|    3|     55.0|        1|[Academia, Churra...|09c8ba2d-dbf1-487...|      2|     1|   1|     Todos os Santos|Zona Norte|       0.0| 0.0|Venda|26000.0|\n",
            "+-----+---------+---------+--------------------+--------------------+-------+------+----+--------------------+----------+----------+----+-----+-------+\n",
            "only showing top 20 rows\n",
            "\n"
          ]
        }
      ]
    },
    {
      "cell_type": "code",
      "source": [
        "columnsX = list(dataset.columns).copy()\n",
        "columnsX.pop(3)\n",
        "\n",
        "dataset\\\n",
        "  .select([count(when(isnan(c) | col(c).isNull(), True)).alias(c) for c in columnsX])\\\n",
        "  .show()"
      ],
      "metadata": {
        "id": "19VOMNHcWBxr",
        "colab": {
          "base_uri": "https://localhost:8080/"
        },
        "outputId": "d7e2b36e-b72c-4274-a91f-49d30106c0c1"
      },
      "execution_count": null,
      "outputs": [
        {
          "output_type": "stream",
          "name": "stdout",
          "text": [
            "+-----+---------+---------+---+-------+------+----+------+----+----------+----+----+-----+\n",
            "|andar|area_util|banheiros| id|quartos|suites|vaga|bairro|zona|condominio|iptu|tipo|valor|\n",
            "+-----+---------+---------+---+-------+------+----+------+----+----------+----+----+-----+\n",
            "|    0|        0|        0|  0|      0|  5544|3008|     0|   0|      2347|7155|   0|    0|\n",
            "+-----+---------+---------+---+-------+------+----+------+----+----------+----+----+-----+\n",
            "\n"
          ]
        }
      ]
    },
    {
      "cell_type": "code",
      "source": [
        "dataset\\\n",
        "  .select('*')\\\n",
        "  .where((dataset[\"suites\"].isNull())|(dataset[\"vaga\"].isNull())|(dataset[\"condominio\"].isNull())|(dataset[\"iptu\"].isNull()))\\\n",
        "  .show()"
      ],
      "metadata": {
        "colab": {
          "base_uri": "https://localhost:8080/"
        },
        "id": "c-kyBz1SiQGh",
        "outputId": "94871b9d-7dcb-48ab-edc8-058b6a9c0c7b"
      },
      "execution_count": null,
      "outputs": [
        {
          "output_type": "stream",
          "name": "stdout",
          "text": [
            "+-----+---------+---------+--------------------+--------------------+-------+------+----+------------------+----------+----------+----+-----+-------+\n",
            "|andar|area_util|banheiros|     caracteristicas|                  id|quartos|suites|vaga|            bairro|      zona|condominio|iptu| tipo|  valor|\n",
            "+-----+---------+---------+--------------------+--------------------+-------+------+----+------------------+----------+----------+----+-----+-------+\n",
            "|    3|     43.0|        1|[Academia, Churra...|d2e3a3aa-09b5-45a...|      2|  null|   1|         Paciência|Zona Oeste|     245.0|null|Venda|15000.0|\n",
            "|    2|     42.0|        1|[Churrasqueira, P...|085bab2c-87ad-452...|      2|  null|   1|         Paciência|Zona Oeste|       0.0| 0.0|Venda|15000.0|\n",
            "|    1|     41.0|        1|[Portaria 24h, Co...|18d22cbe-1b86-476...|      2|  null|   1|         Guaratiba|Zona Oeste|       0.0| 0.0|Venda|20000.0|\n",
            "|    3|     43.0|        1|[Churrasqueira, P...|bed8a354-9317-442...|      2|  null|   0|            Cosmos|Zona Oeste|     285.0|null|Venda|20000.0|\n",
            "|    2|     43.0|        1|[Academia, Churra...|12a13315-d67f-48f...|      2|  null|   1|         Guaratiba|Zona Oeste|     245.0|null|Venda|15000.0|\n",
            "|    3|     43.0|        1|[Churrasqueira, P...|a2e6d7a5-0ff0-484...|      2|     0|   0|            Cosmos|Zona Oeste|     285.0|null|Venda|20000.0|\n",
            "|    3|     43.0|        1|[Churrasqueira, P...|a6e3173b-c950-4db...|      2|  null|   1|         Paciência|Zona Oeste|     250.0|null|Venda|15000.0|\n",
            "|    3|     43.0|        1|[Churrasqueira, P...|2e6e5dfb-206c-496...|      2|     0|   1|         Guaratiba|Zona Oeste|     245.0|null|Venda|15000.0|\n",
            "|    3|     43.0|        1|[Churrasqueira, P...|99f8d0f9-95a4-461...|      2|     0|   1|         Paciência|Zona Oeste|     245.0|null|Venda|15000.0|\n",
            "|    4|     43.0|        1|[Churrasqueira, P...|b3f44c1a-2d50-4d5...|      2|  null|   1|         Guaratiba|Zona Oeste|     240.0|null|Venda|17999.0|\n",
            "|    0|     60.0|        1|[Condomínio fechado]|dc99d9e1-4c63-41f...|      2|  null|   1|Pedra de Guaratiba|Zona Oeste|       0.0| 0.0|Venda|15000.0|\n",
            "|    1|     43.0|        1|[Churrasqueira, P...|aa3606d8-8bcd-45e...|      2|  null|   1|            Cosmos|Zona Oeste|     240.0| 0.0|Venda|19999.0|\n",
            "|    0|     43.0|        1|[Churrasqueira, P...|df80b0d5-677c-4be...|      2|     0|   0|      Campo Grande|Zona Oeste|     245.0|null|Venda|19999.0|\n",
            "|    2|     43.0|        1|[Academia, Churra...|3d6c0218-9b7d-474...|      2|  null|   2|        Santa Cruz|Zona Oeste|     290.0|null|Venda|25000.0|\n",
            "|    3|     43.0|        1|[Salão de festas,...|304266cc-62d1-4ce...|      2|  null|null|         Guaratiba|Zona Oeste|     285.0|null|Venda|29999.0|\n",
            "|    0|     45.0|        1|[Playground, Pisc...|275c1589-6537-4bf...|      2|     0|   1|            Cosmos|Zona Oeste|      null|null|Venda|30000.0|\n",
            "|    1|     43.0|        1|[Churrasqueira, P...|e0a3d370-66dd-4f5...|      2|  null|   1|            Cosmos|Zona Oeste|     280.0|null|Venda|27999.0|\n",
            "|    0|     45.0|        1|[Academia, Churra...|33da5489-72c9-4d1...|      2|  null|   1|         Paciência|Zona Oeste|     200.0| 0.0|Venda|23000.0|\n",
            "|    1|     43.0|        1|[Churrasqueira, P...|08511604-dffe-40a...|      2|  null|   1|      Campo Grande|Zona Oeste|     245.0|null|Venda|29999.0|\n",
            "|    0|     28.0|        1|                null|a8de531f-5e85-421...|      1|     0|   0|   Marechal Hermes|Zona Norte|      null| 0.0|Venda|27000.0|\n",
            "+-----+---------+---------+--------------------+--------------------+-------+------+----+------------------+----------+----------+----+-----+-------+\n",
            "only showing top 20 rows\n",
            "\n"
          ]
        }
      ]
    },
    {
      "cell_type": "code",
      "source": [
        "dataset = dataset\\\n",
        "  .select('*')\\\n",
        "  .na\\\n",
        "  .fill(0)"
      ],
      "metadata": {
        "id": "ygZK2UCUipRf"
      },
      "execution_count": null,
      "outputs": []
    },
    {
      "cell_type": "markdown",
      "source": [
        "## **Preparação dos dados para machine learning**\n",
        "\n",
        "Para conseguirmos utilizar nossos dados em modelos de Machine Learning, é necessário realizarmos algumas técnicas, como a transformação de variáveis categóricas em binárias.\n",
        "\n",
        "Dica:\n",
        "As colunas caracteristicas e zona parecem ser boas candidatas para o processo de variáveis Dummy"
      ],
      "metadata": {
        "id": "z1L28QFCYKTT"
      }
    },
    {
      "cell_type": "markdown",
      "source": [
        "## **Preparação dos Dados**"
      ],
      "metadata": {
        "id": "NDpc-Kzvws1x"
      }
    },
    {
      "cell_type": "code",
      "source": [
        "dataset = dataset.select(\"*\",f.explode(dataset['caracteristicas'])).drop('caracteristicas')\n",
        "dataset = dataset.withColumnRenamed('col','caracteristicas')\n",
        "dataset.show(5)"
      ],
      "metadata": {
        "colab": {
          "base_uri": "https://localhost:8080/"
        },
        "id": "SydB1TVEcp-j",
        "outputId": "8b55e32f-d1e0-4012-e755-cf96f430fce6"
      },
      "execution_count": null,
      "outputs": [
        {
          "output_type": "stream",
          "name": "stdout",
          "text": [
            "+-----+---------+---------+--------------------+-------+------+----+---------+----------+----------+----+-----+-------+------------------+\n",
            "|andar|area_util|banheiros|                  id|quartos|suites|vaga|   bairro|      zona|condominio|iptu| tipo|  valor|   caracteristicas|\n",
            "+-----+---------+---------+--------------------+-------+------+----+---------+----------+----------+----+-----+-------+------------------+\n",
            "|    3|     43.0|        1|d2e3a3aa-09b5-45a...|      2|     0|   1|Paciência|Zona Oeste|     245.0| 0.0|Venda|15000.0|          Academia|\n",
            "|    3|     43.0|        1|d2e3a3aa-09b5-45a...|      2|     0|   1|Paciência|Zona Oeste|     245.0| 0.0|Venda|15000.0|     Churrasqueira|\n",
            "|    3|     43.0|        1|d2e3a3aa-09b5-45a...|      2|     0|   1|Paciência|Zona Oeste|     245.0| 0.0|Venda|15000.0|        Playground|\n",
            "|    3|     43.0|        1|d2e3a3aa-09b5-45a...|      2|     0|   1|Paciência|Zona Oeste|     245.0| 0.0|Venda|15000.0|   Salão de festas|\n",
            "|    3|     43.0|        1|d2e3a3aa-09b5-45a...|      2|     0|   1|Paciência|Zona Oeste|     245.0| 0.0|Venda|15000.0|Condomínio fechado|\n",
            "+-----+---------+---------+--------------------+-------+------+----+---------+----------+----------+----+-----+-------+------------------+\n",
            "only showing top 5 rows\n",
            "\n"
          ]
        }
      ]
    },
    {
      "cell_type": "code",
      "source": [
        "dataset\\\n",
        "  .groupBy('id')\\\n",
        "  .pivot('caracteristicas')\\\n",
        "  .agg(f.lit(1))\\\n",
        "  .na\\\n",
        "  .fill(0)\\\n",
        "  .show()"
      ],
      "metadata": {
        "id": "ssijIwnLaRo1",
        "colab": {
          "base_uri": "https://localhost:8080/"
        },
        "outputId": "55097c9a-f416-4cd0-d305-da3285876217"
      },
      "execution_count": null,
      "outputs": [
        {
          "output_type": "stream",
          "name": "stdout",
          "text": [
            "+--------------------+--------+------------------+-------------+------------------+--------+-------+----------+------------+-----------------+---------------+\n",
            "|                  id|Academia|Animais permitidos|Churrasqueira|Condomínio fechado|Elevador|Piscina|Playground|Portaria 24h|Portão eletrônico|Salão de festas|\n",
            "+--------------------+--------+------------------+-------------+------------------+--------+-------+----------+------------+-----------------+---------------+\n",
            "|fd96bbd5-d631-416...|       1|                 1|            1|                 1|       1|      1|         1|           1|                1|              1|\n",
            "|bfffedfe-99e7-4ae...|       0|                 1|            1|                 1|       1|      0|         1|           0|                1|              1|\n",
            "|fcb67af3-5601-415...|       1|                 1|            1|                 0|       0|      1|         1|           0|                0|              1|\n",
            "|afecddff-f4cc-4ab...|       1|                 1|            1|                 1|       1|      1|         1|           1|                1|              1|\n",
            "|1bbc40f3-4f5c-459...|       1|                 0|            0|                 1|       1|      1|         1|           1|                1|              1|\n",
            "|fd26aeb2-a7b3-4f8...|       1|                 1|            1|                 1|       1|      1|         1|           1|                1|              1|\n",
            "|10e9d118-dbad-43c...|       0|                 1|            1|                 1|       0|      1|         1|           1|                1|              1|\n",
            "|ca1e84d7-86c8-4b1...|       1|                 0|            1|                 1|       1|      1|         1|           1|                1|              1|\n",
            "|d9e139a5-e85d-4e1...|       1|                 1|            1|                 1|       1|      1|         1|           1|                1|              1|\n",
            "|156a1fa5-37ca-43d...|       1|                 0|            1|                 1|       1|      1|         1|           1|                1|              1|\n",
            "|e7be09eb-6223-4b4...|       1|                 1|            1|                 1|       1|      1|         1|           1|                1|              1|\n",
            "|631efda0-5e10-422...|       1|                 1|            1|                 1|       1|      1|         1|           1|                1|              1|\n",
            "|07cbfef2-efbf-4e8...|       0|                 1|            0|                 0|       1|      0|         0|           1|                0|              0|\n",
            "|62baf185-103d-448...|       1|                 0|            1|                 1|       0|      1|         1|           0|                0|              0|\n",
            "|3030d17c-5681-4b2...|       1|                 1|            1|                 1|       1|      1|         0|           1|                1|              1|\n",
            "|6179c8a4-1fd2-4f5...|       1|                 1|            0|                 1|       1|      1|         1|           1|                1|              1|\n",
            "|c284072a-7298-4e5...|       1|                 1|            1|                 1|       1|      1|         1|           1|                1|              1|\n",
            "|7e43514c-3b40-4fb...|       1|                 1|            1|                 1|       1|      1|         1|           1|                1|              1|\n",
            "|6a4ce9ac-1eb0-4d4...|       1|                 0|            1|                 0|       1|      1|         1|           0|                0|              1|\n",
            "|bdc6127a-1d97-41b...|       1|                 0|            1|                 0|       0|      0|         0|           0|                0|              1|\n",
            "+--------------------+--------+------------------+-------------+------------------+--------+-------+----------+------------+-----------------+---------------+\n",
            "only showing top 20 rows\n",
            "\n"
          ]
        }
      ]
    },
    {
      "cell_type": "code",
      "source": [
        "zona = dataset\\\n",
        "  .groupBy('id')\\\n",
        "  .pivot('zona')\\\n",
        "  .agg(f.lit(1))\\\n",
        "  .na\\\n",
        "  .fill(0)\n",
        "\n",
        "caracteristicas = dataset\\\n",
        "  .groupBy('id')\\\n",
        "  .pivot('caracteristicas')\\\n",
        "  .agg(f.lit(1))\\\n",
        "  .na\\\n",
        "  .fill(0)"
      ],
      "metadata": {
        "id": "j7sPbYz6aMdD"
      },
      "execution_count": null,
      "outputs": []
    },
    {
      "cell_type": "code",
      "source": [
        "dataset = dataset\\\n",
        "  .join(zona, 'id', how = 'inner')\\\n",
        "  .join(caracteristicas, 'id', how = 'inner')"
      ],
      "metadata": {
        "id": "79ZgpLvAffHK"
      },
      "execution_count": null,
      "outputs": []
    },
    {
      "cell_type": "code",
      "source": [
        "dataset = dataset.select('*').drop('zona','bairro','tipo','caracteristicas','')"
      ],
      "metadata": {
        "id": "g-xq2TppjUfx"
      },
      "execution_count": null,
      "outputs": []
    },
    {
      "cell_type": "code",
      "source": [
        "dataset.show(5)"
      ],
      "metadata": {
        "id": "GBSX2S9pC9FY",
        "colab": {
          "base_uri": "https://localhost:8080/"
        },
        "outputId": "df94a2b7-5645-4c71-fb0a-95a0ace354e0"
      },
      "execution_count": null,
      "outputs": [
        {
          "output_type": "stream",
          "name": "stdout",
          "text": [
            "+--------------------+-----+---------+---------+-------+------+----+----------+------+---------+------------+----------+----------+--------+--------+------------------+-------------+------------------+--------+-------+----------+------------+-----------------+---------------+\n",
            "|                  id|andar|area_util|banheiros|quartos|suites|vaga|condominio|  iptu|    valor|Zona Central|Zona Norte|Zona Oeste|Zona Sul|Academia|Animais permitidos|Churrasqueira|Condomínio fechado|Elevador|Piscina|Playground|Portaria 24h|Portão eletrônico|Salão de festas|\n",
            "+--------------------+-----+---------+---------+-------+------+----+----------+------+---------+------------+----------+----------+--------+--------+------------------+-------------+------------------+--------+-------+----------+------------+-----------------+---------------+\n",
            "|00012605-9cae-45b...|    0|    410.0|        3|      4|     1|   1|    3300.0|5780.0|4600000.0|           0|         0|         0|       1|       0|                 0|            0|                 0|       1|      0|         0|           0|                0|              0|\n",
            "|0002dfaf-7735-481...|    1|     50.0|        1|      1|     0|   1|     500.0| 600.0| 360000.0|           0|         1|         0|       0|       0|                 1|            0|                 0|       1|      0|         0|           0|                1|              1|\n",
            "|0002dfaf-7735-481...|    1|     50.0|        1|      1|     0|   1|     500.0| 600.0| 360000.0|           0|         1|         0|       0|       0|                 1|            0|                 0|       1|      0|         0|           0|                1|              1|\n",
            "|0002dfaf-7735-481...|    1|     50.0|        1|      1|     0|   1|     500.0| 600.0| 360000.0|           0|         1|         0|       0|       0|                 1|            0|                 0|       1|      0|         0|           0|                1|              1|\n",
            "|0002dfaf-7735-481...|    1|     50.0|        1|      1|     0|   1|     500.0| 600.0| 360000.0|           0|         1|         0|       0|       0|                 1|            0|                 0|       1|      0|         0|           0|                1|              1|\n",
            "+--------------------+-----+---------+---------+-------+------+----+----------+------+---------+------------+----------+----------+--------+--------+------------------+-------------+------------------+--------+-------+----------+------------+-----------------+---------------+\n",
            "only showing top 5 rows\n",
            "\n"
          ]
        }
      ]
    },
    {
      "cell_type": "code",
      "source": [
        "dataset.write.parquet(\n",
        "    path=\"/content/drive/MyDrive/Colab Notebooks/Imercao PySpark/parquet_ml\",\n",
        "    mode = \"overwrite\"\n",
        "    )"
      ],
      "metadata": {
        "id": "CBIA3HGxk134"
      },
      "execution_count": null,
      "outputs": []
    },
    {
      "cell_type": "markdown",
      "source": [
        "## **Preparação dos dados para os algoritmos do Spark MLlib**\n",
        "\n",
        "Para utilizarmos nossos dados em modelos do PySpark, nós precisamos utilizar a técnica de vetorização dos dados."
      ],
      "metadata": {
        "id": "4o5jjqfEqWcp"
      }
    },
    {
      "cell_type": "code",
      "source": [
        "from pyspark.ml.feature import VectorAssembler"
      ],
      "metadata": {
        "id": "9-ZeKJpaqwa-"
      },
      "execution_count": null,
      "outputs": []
    },
    {
      "cell_type": "code",
      "source": [
        "dataset = dataset.withColumnRenamed('valor','label')"
      ],
      "metadata": {
        "id": "fUCIqPPNq8pG"
      },
      "execution_count": null,
      "outputs": []
    },
    {
      "cell_type": "code",
      "source": [
        "X = [\n",
        " 'andar',\n",
        " 'area_util',\n",
        " 'banheiros',\n",
        " 'quartos',\n",
        " 'suites',\n",
        " 'vaga',\n",
        " 'condominio',\n",
        " 'iptu',\n",
        " 'Zona Central',\n",
        " 'Zona Norte',\n",
        " 'Zona Oeste',\n",
        " 'Zona Sul',\n",
        " 'Academia',\n",
        " 'Animais permitidos',\n",
        " 'Churrasqueira',\n",
        " 'Condomínio fechado',\n",
        " 'Elevador',\n",
        " 'Piscina',\n",
        " 'Playground',\n",
        " 'Portaria 24h',\n",
        " 'Portão eletrônico',\n",
        " 'Salão de festas']"
      ],
      "metadata": {
        "id": "JPyGySQGrIKF"
      },
      "execution_count": null,
      "outputs": []
    },
    {
      "cell_type": "code",
      "source": [
        "assembler = VectorAssembler(inputCols = X, outputCol = 'features')"
      ],
      "metadata": {
        "id": "8B0Aew9jrOhK"
      },
      "execution_count": null,
      "outputs": []
    },
    {
      "cell_type": "code",
      "source": [
        "dataset_prep = assembler.transform(dataset).select('features','label')"
      ],
      "metadata": {
        "id": "7QC_SmFjrn-H"
      },
      "execution_count": null,
      "outputs": []
    },
    {
      "cell_type": "code",
      "source": [
        "dataset_prep.show(10,truncate = False)"
      ],
      "metadata": {
        "colab": {
          "base_uri": "https://localhost:8080/"
        },
        "id": "nHQZkldlr0oA",
        "outputId": "b8c62dca-55d4-4915-d2b2-a3738c3c0a2f"
      },
      "execution_count": null,
      "outputs": [
        {
          "output_type": "stream",
          "name": "stdout",
          "text": [
            "+-----------------------------------------------------------------------------------------+---------+\n",
            "|features                                                                                 |label    |\n",
            "+-----------------------------------------------------------------------------------------+---------+\n",
            "|(22,[1,2,3,4,5,6,7,11,16],[410.0,3.0,4.0,1.0,1.0,3300.0,5780.0,1.0,1.0])                 |4600000.0|\n",
            "|(22,[0,1,2,3,5,6,7,9,13,16,20,21],[1.0,50.0,1.0,1.0,1.0,500.0,600.0,1.0,1.0,1.0,1.0,1.0])|360000.0 |\n",
            "|(22,[0,1,2,3,5,6,7,9,13,16,20,21],[1.0,50.0,1.0,1.0,1.0,500.0,600.0,1.0,1.0,1.0,1.0,1.0])|360000.0 |\n",
            "|(22,[0,1,2,3,5,6,7,9,13,16,20,21],[1.0,50.0,1.0,1.0,1.0,500.0,600.0,1.0,1.0,1.0,1.0,1.0])|360000.0 |\n",
            "|(22,[0,1,2,3,5,6,7,9,13,16,20,21],[1.0,50.0,1.0,1.0,1.0,500.0,600.0,1.0,1.0,1.0,1.0,1.0])|360000.0 |\n",
            "|(22,[1,2,3,4,5,10,14,16,17],[148.0,4.0,4.0,2.0,2.0,1.0,1.0,1.0,1.0])                     |1200000.0|\n",
            "|(22,[1,2,3,4,5,10,14,16,17],[148.0,4.0,4.0,2.0,2.0,1.0,1.0,1.0,1.0])                     |1200000.0|\n",
            "|(22,[1,2,3,4,5,10,14,16,17],[148.0,4.0,4.0,2.0,2.0,1.0,1.0,1.0,1.0])                     |1200000.0|\n",
            "|(22,[1,2,3,6,7,11,16],[104.0,1.0,2.0,1010.0,272.0,1.0,1.0])                              |750000.0 |\n",
            "|(22,[1,2,3,5,6,7,11,16],[71.0,2.0,2.0,1.0,1312.0,360.0,1.0,1.0])                         |1025000.0|\n",
            "+-----------------------------------------------------------------------------------------+---------+\n",
            "only showing top 10 rows\n",
            "\n"
          ]
        }
      ]
    },
    {
      "cell_type": "markdown",
      "source": [
        "## **Criação dos modelos de regressão**"
      ],
      "metadata": {
        "id": "A1zQ9W0qsW4p"
      }
    },
    {
      "cell_type": "markdown",
      "source": [
        "### Exploracao dos dados"
      ],
      "metadata": {
        "id": "EwKrhe8ysgHW"
      }
    },
    {
      "cell_type": "code",
      "source": [
        "from pyspark.ml.stat import Correlation\n",
        "import pandas as pd"
      ],
      "metadata": {
        "id": "pk8AfHzQr5X4"
      },
      "execution_count": null,
      "outputs": []
    },
    {
      "cell_type": "code",
      "source": [
        "correlacao = Correlation.corr(dataset_prep,'features').collect()[0][0]"
      ],
      "metadata": {
        "id": "WbOXMSwfsnCG"
      },
      "execution_count": null,
      "outputs": []
    },
    {
      "cell_type": "code",
      "source": [
        "dataframe_correlacao = pd.DataFrame(correlacao.toArray(), columns=X, index=X)"
      ],
      "metadata": {
        "id": "PZ4dVlFHsqJ8"
      },
      "execution_count": null,
      "outputs": []
    },
    {
      "cell_type": "code",
      "source": [
        "dataframe_correlacao"
      ],
      "metadata": {
        "colab": {
          "base_uri": "https://localhost:8080/",
          "height": 919
        },
        "id": "k2rXCULXs7Sc",
        "outputId": "2cf9f56d-c079-4b6d-8530-0765283b84c0"
      },
      "execution_count": null,
      "outputs": [
        {
          "output_type": "execute_result",
          "data": {
            "text/plain": [
              "                       andar  area_util  banheiros   quartos    suites  \\\n",
              "andar               1.000000   0.028103   0.024944  0.016791  0.017845   \n",
              "area_util           0.028103   1.000000   0.708287  0.674803  0.653126   \n",
              "banheiros           0.024944   0.708287   1.000000  0.681862  0.764725   \n",
              "quartos             0.016791   0.674803   0.681862  1.000000  0.620531   \n",
              "suites              0.017845   0.653126   0.764725  0.620531  1.000000   \n",
              "vaga                0.016874   0.498984   0.457590  0.443498  0.447664   \n",
              "condominio          0.004361   0.054637   0.032265  0.024728  0.033086   \n",
              "iptu               -0.000274   0.019715   0.016836  0.015873  0.014310   \n",
              "Zona Central        0.036728  -0.114792  -0.147446 -0.173617 -0.127157   \n",
              "Zona Norte         -0.005071  -0.178557  -0.189841 -0.143050 -0.211377   \n",
              "Zona Oeste         -0.002460   0.151639   0.205533  0.207359  0.241595   \n",
              "Zona Sul           -0.005480   0.017797  -0.025105 -0.059598 -0.056193   \n",
              "Academia            0.026595   0.009965   0.087649  0.075694  0.213983   \n",
              "Animais permitidos  0.059550  -0.023159  -0.053207 -0.030885 -0.005136   \n",
              "Churrasqueira       0.012856  -0.028763   0.031301  0.073725  0.131549   \n",
              "Condomínio fechado  0.049629  -0.011779  -0.027415  0.000931  0.076959   \n",
              "Elevador            0.037333   0.032502   0.059639  0.036773  0.088714   \n",
              "Piscina             0.008669   0.032726   0.109611  0.106559  0.234470   \n",
              "Playground          0.017521  -0.008757   0.067896  0.101537  0.147024   \n",
              "Portaria 24h        0.039459  -0.032905  -0.065413 -0.034249  0.008363   \n",
              "Portão eletrônico   0.036784  -0.009866  -0.051135 -0.029047  0.017647   \n",
              "Salão de festas     0.020838  -0.024082   0.054460  0.080324  0.126010   \n",
              "\n",
              "                        vaga  condominio      iptu  Zona Central  Zona Norte  \\\n",
              "andar               0.016874    0.004361 -0.000274      0.036728   -0.005071   \n",
              "area_util           0.498984    0.054637  0.019715     -0.114792   -0.178557   \n",
              "banheiros           0.457590    0.032265  0.016836     -0.147446   -0.189841   \n",
              "quartos             0.443498    0.024728  0.015873     -0.173617   -0.143050   \n",
              "suites              0.447664    0.033086  0.014310     -0.127157   -0.211377   \n",
              "vaga                1.000000    0.028421  0.013556     -0.108510   -0.106706   \n",
              "condominio          0.028421    1.000000  0.244134     -0.004968   -0.009950   \n",
              "iptu                0.013556    0.244134  1.000000     -0.004333   -0.006780   \n",
              "Zona Central       -0.108510   -0.004968 -0.004333      1.000000   -0.062865   \n",
              "Zona Norte         -0.106706   -0.009950 -0.006780     -0.062865    1.000000   \n",
              "Zona Oeste          0.207585    0.001707 -0.005226     -0.184704   -0.539017   \n",
              "Zona Sul           -0.114957    0.008546  0.013785     -0.075871   -0.221411   \n",
              "Academia            0.107673    0.008163  0.000379      0.041039   -0.122777   \n",
              "Animais permitidos -0.011602    0.003537 -0.004936      0.054661    0.005556   \n",
              "Churrasqueira       0.085402   -0.001957 -0.004035     -0.003246   -0.013955   \n",
              "Condomínio fechado  0.027732    0.006007 -0.008498      0.040682   -0.074236   \n",
              "Elevador            0.026097    0.004916 -0.004252      0.031977   -0.010958   \n",
              "Piscina             0.137882    0.003827  0.000242      0.011899   -0.126132   \n",
              "Playground          0.098519    0.003170 -0.000727     -0.014831   -0.006992   \n",
              "Portaria 24h       -0.016793    0.002873 -0.007001      0.047931   -0.034720   \n",
              "Portão eletrônico  -0.007289   -0.002405 -0.009371      0.044552    0.004105   \n",
              "Salão de festas     0.094937    0.002470  0.000053     -0.000577    0.015241   \n",
              "\n",
              "                    ...  Academia  Animais permitidos  Churrasqueira  \\\n",
              "andar               ...  0.026595            0.059550       0.012856   \n",
              "area_util           ...  0.009965           -0.023159      -0.028763   \n",
              "banheiros           ...  0.087649           -0.053207       0.031301   \n",
              "quartos             ...  0.075694           -0.030885       0.073725   \n",
              "suites              ...  0.213983           -0.005136       0.131549   \n",
              "vaga                ...  0.107673           -0.011602       0.085402   \n",
              "condominio          ...  0.008163            0.003537      -0.001957   \n",
              "iptu                ...  0.000379           -0.004936      -0.004035   \n",
              "Zona Central        ...  0.041039            0.054661      -0.003246   \n",
              "Zona Norte          ... -0.122777            0.005556      -0.013955   \n",
              "Zona Oeste          ...  0.323176           -0.029318       0.365153   \n",
              "Zona Sul            ... -0.291322            0.010974      -0.422360   \n",
              "Academia            ...  1.000000            0.173393       0.564811   \n",
              "Animais permitidos  ...  0.173393            1.000000       0.064023   \n",
              "Churrasqueira       ...  0.564811            0.064023       1.000000   \n",
              "Condomínio fechado  ...  0.393738            0.433206       0.235522   \n",
              "Elevador            ...  0.248966            0.233069       0.104030   \n",
              "Piscina             ...  0.677308            0.031843       0.627627   \n",
              "Playground          ...  0.533067            0.086779       0.495440   \n",
              "Portaria 24h        ...  0.275464            0.532738       0.127616   \n",
              "Portão eletrônico   ...  0.178658            0.514210       0.064868   \n",
              "Salão de festas     ...  0.562402            0.130017       0.512298   \n",
              "\n",
              "                    Condomínio fechado  Elevador   Piscina  Playground  \\\n",
              "andar                         0.049629  0.037333  0.008669    0.017521   \n",
              "area_util                    -0.011779  0.032502  0.032726   -0.008757   \n",
              "banheiros                    -0.027415  0.059639  0.109611    0.067896   \n",
              "quartos                       0.000931  0.036773  0.106559    0.101537   \n",
              "suites                        0.076959  0.088714  0.234470    0.147024   \n",
              "vaga                          0.027732  0.026097  0.137882    0.098519   \n",
              "condominio                    0.006007  0.004916  0.003827    0.003170   \n",
              "iptu                         -0.008498 -0.004252  0.000242   -0.000727   \n",
              "Zona Central                  0.040682  0.031977  0.011899   -0.014831   \n",
              "Zona Norte                   -0.074236 -0.010958 -0.126132   -0.006992   \n",
              "Zona Oeste                    0.135250 -0.037072  0.388817    0.242234   \n",
              "Zona Sul                     -0.109950  0.042788 -0.356350   -0.277683   \n",
              "Academia                      0.393738  0.248966  0.677308    0.533067   \n",
              "Animais permitidos            0.433206  0.233069  0.031843    0.086779   \n",
              "Churrasqueira                 0.235522  0.104030  0.627627    0.495440   \n",
              "Condomínio fechado            1.000000  0.270001  0.248136    0.225580   \n",
              "Elevador                      0.270001  1.000000  0.148361    0.158762   \n",
              "Piscina                       0.248136  0.148361  1.000000    0.505799   \n",
              "Playground                    0.225580  0.158762  0.505799    1.000000   \n",
              "Portaria 24h                  0.545523  0.301298  0.134541    0.181834   \n",
              "Portão eletrônico             0.513177  0.257097  0.050274    0.099470   \n",
              "Salão de festas               0.256225  0.149920  0.516165    0.593953   \n",
              "\n",
              "                    Portaria 24h  Portão eletrônico  Salão de festas  \n",
              "andar                   0.039459           0.036784         0.020838  \n",
              "area_util              -0.032905          -0.009866        -0.024082  \n",
              "banheiros              -0.065413          -0.051135         0.054460  \n",
              "quartos                -0.034249          -0.029047         0.080324  \n",
              "suites                  0.008363           0.017647         0.126010  \n",
              "vaga                   -0.016793          -0.007289         0.094937  \n",
              "condominio              0.002873          -0.002405         0.002470  \n",
              "iptu                   -0.007001          -0.009371         0.000053  \n",
              "Zona Central            0.047931           0.044552        -0.000577  \n",
              "Zona Norte             -0.034720           0.004105         0.015241  \n",
              "Zona Oeste             -0.026336          -0.039743         0.261833  \n",
              "Zona Sul                0.045567           0.028298        -0.325884  \n",
              "Academia                0.275464           0.178658         0.562402  \n",
              "Animais permitidos      0.532738           0.514210         0.130017  \n",
              "Churrasqueira           0.127616           0.064868         0.512298  \n",
              "Condomínio fechado      0.545523           0.513177         0.256225  \n",
              "Elevador                0.301298           0.257097         0.149920  \n",
              "Piscina                 0.134541           0.050274         0.516165  \n",
              "Playground              0.181834           0.099470         0.593953  \n",
              "Portaria 24h            1.000000           0.715982         0.212578  \n",
              "Portão eletrônico       0.715982           1.000000         0.119684  \n",
              "Salão de festas         0.212578           0.119684         1.000000  \n",
              "\n",
              "[22 rows x 22 columns]"
            ],
            "text/html": [
              "\n",
              "  <div id=\"df-16d12e64-8a5b-42bc-9797-c940bb72e8c1\">\n",
              "    <div class=\"colab-df-container\">\n",
              "      <div>\n",
              "<style scoped>\n",
              "    .dataframe tbody tr th:only-of-type {\n",
              "        vertical-align: middle;\n",
              "    }\n",
              "\n",
              "    .dataframe tbody tr th {\n",
              "        vertical-align: top;\n",
              "    }\n",
              "\n",
              "    .dataframe thead th {\n",
              "        text-align: right;\n",
              "    }\n",
              "</style>\n",
              "<table border=\"1\" class=\"dataframe\">\n",
              "  <thead>\n",
              "    <tr style=\"text-align: right;\">\n",
              "      <th></th>\n",
              "      <th>andar</th>\n",
              "      <th>area_util</th>\n",
              "      <th>banheiros</th>\n",
              "      <th>quartos</th>\n",
              "      <th>suites</th>\n",
              "      <th>vaga</th>\n",
              "      <th>condominio</th>\n",
              "      <th>iptu</th>\n",
              "      <th>Zona Central</th>\n",
              "      <th>Zona Norte</th>\n",
              "      <th>...</th>\n",
              "      <th>Academia</th>\n",
              "      <th>Animais permitidos</th>\n",
              "      <th>Churrasqueira</th>\n",
              "      <th>Condomínio fechado</th>\n",
              "      <th>Elevador</th>\n",
              "      <th>Piscina</th>\n",
              "      <th>Playground</th>\n",
              "      <th>Portaria 24h</th>\n",
              "      <th>Portão eletrônico</th>\n",
              "      <th>Salão de festas</th>\n",
              "    </tr>\n",
              "  </thead>\n",
              "  <tbody>\n",
              "    <tr>\n",
              "      <th>andar</th>\n",
              "      <td>1.000000</td>\n",
              "      <td>0.028103</td>\n",
              "      <td>0.024944</td>\n",
              "      <td>0.016791</td>\n",
              "      <td>0.017845</td>\n",
              "      <td>0.016874</td>\n",
              "      <td>0.004361</td>\n",
              "      <td>-0.000274</td>\n",
              "      <td>0.036728</td>\n",
              "      <td>-0.005071</td>\n",
              "      <td>...</td>\n",
              "      <td>0.026595</td>\n",
              "      <td>0.059550</td>\n",
              "      <td>0.012856</td>\n",
              "      <td>0.049629</td>\n",
              "      <td>0.037333</td>\n",
              "      <td>0.008669</td>\n",
              "      <td>0.017521</td>\n",
              "      <td>0.039459</td>\n",
              "      <td>0.036784</td>\n",
              "      <td>0.020838</td>\n",
              "    </tr>\n",
              "    <tr>\n",
              "      <th>area_util</th>\n",
              "      <td>0.028103</td>\n",
              "      <td>1.000000</td>\n",
              "      <td>0.708287</td>\n",
              "      <td>0.674803</td>\n",
              "      <td>0.653126</td>\n",
              "      <td>0.498984</td>\n",
              "      <td>0.054637</td>\n",
              "      <td>0.019715</td>\n",
              "      <td>-0.114792</td>\n",
              "      <td>-0.178557</td>\n",
              "      <td>...</td>\n",
              "      <td>0.009965</td>\n",
              "      <td>-0.023159</td>\n",
              "      <td>-0.028763</td>\n",
              "      <td>-0.011779</td>\n",
              "      <td>0.032502</td>\n",
              "      <td>0.032726</td>\n",
              "      <td>-0.008757</td>\n",
              "      <td>-0.032905</td>\n",
              "      <td>-0.009866</td>\n",
              "      <td>-0.024082</td>\n",
              "    </tr>\n",
              "    <tr>\n",
              "      <th>banheiros</th>\n",
              "      <td>0.024944</td>\n",
              "      <td>0.708287</td>\n",
              "      <td>1.000000</td>\n",
              "      <td>0.681862</td>\n",
              "      <td>0.764725</td>\n",
              "      <td>0.457590</td>\n",
              "      <td>0.032265</td>\n",
              "      <td>0.016836</td>\n",
              "      <td>-0.147446</td>\n",
              "      <td>-0.189841</td>\n",
              "      <td>...</td>\n",
              "      <td>0.087649</td>\n",
              "      <td>-0.053207</td>\n",
              "      <td>0.031301</td>\n",
              "      <td>-0.027415</td>\n",
              "      <td>0.059639</td>\n",
              "      <td>0.109611</td>\n",
              "      <td>0.067896</td>\n",
              "      <td>-0.065413</td>\n",
              "      <td>-0.051135</td>\n",
              "      <td>0.054460</td>\n",
              "    </tr>\n",
              "    <tr>\n",
              "      <th>quartos</th>\n",
              "      <td>0.016791</td>\n",
              "      <td>0.674803</td>\n",
              "      <td>0.681862</td>\n",
              "      <td>1.000000</td>\n",
              "      <td>0.620531</td>\n",
              "      <td>0.443498</td>\n",
              "      <td>0.024728</td>\n",
              "      <td>0.015873</td>\n",
              "      <td>-0.173617</td>\n",
              "      <td>-0.143050</td>\n",
              "      <td>...</td>\n",
              "      <td>0.075694</td>\n",
              "      <td>-0.030885</td>\n",
              "      <td>0.073725</td>\n",
              "      <td>0.000931</td>\n",
              "      <td>0.036773</td>\n",
              "      <td>0.106559</td>\n",
              "      <td>0.101537</td>\n",
              "      <td>-0.034249</td>\n",
              "      <td>-0.029047</td>\n",
              "      <td>0.080324</td>\n",
              "    </tr>\n",
              "    <tr>\n",
              "      <th>suites</th>\n",
              "      <td>0.017845</td>\n",
              "      <td>0.653126</td>\n",
              "      <td>0.764725</td>\n",
              "      <td>0.620531</td>\n",
              "      <td>1.000000</td>\n",
              "      <td>0.447664</td>\n",
              "      <td>0.033086</td>\n",
              "      <td>0.014310</td>\n",
              "      <td>-0.127157</td>\n",
              "      <td>-0.211377</td>\n",
              "      <td>...</td>\n",
              "      <td>0.213983</td>\n",
              "      <td>-0.005136</td>\n",
              "      <td>0.131549</td>\n",
              "      <td>0.076959</td>\n",
              "      <td>0.088714</td>\n",
              "      <td>0.234470</td>\n",
              "      <td>0.147024</td>\n",
              "      <td>0.008363</td>\n",
              "      <td>0.017647</td>\n",
              "      <td>0.126010</td>\n",
              "    </tr>\n",
              "    <tr>\n",
              "      <th>vaga</th>\n",
              "      <td>0.016874</td>\n",
              "      <td>0.498984</td>\n",
              "      <td>0.457590</td>\n",
              "      <td>0.443498</td>\n",
              "      <td>0.447664</td>\n",
              "      <td>1.000000</td>\n",
              "      <td>0.028421</td>\n",
              "      <td>0.013556</td>\n",
              "      <td>-0.108510</td>\n",
              "      <td>-0.106706</td>\n",
              "      <td>...</td>\n",
              "      <td>0.107673</td>\n",
              "      <td>-0.011602</td>\n",
              "      <td>0.085402</td>\n",
              "      <td>0.027732</td>\n",
              "      <td>0.026097</td>\n",
              "      <td>0.137882</td>\n",
              "      <td>0.098519</td>\n",
              "      <td>-0.016793</td>\n",
              "      <td>-0.007289</td>\n",
              "      <td>0.094937</td>\n",
              "    </tr>\n",
              "    <tr>\n",
              "      <th>condominio</th>\n",
              "      <td>0.004361</td>\n",
              "      <td>0.054637</td>\n",
              "      <td>0.032265</td>\n",
              "      <td>0.024728</td>\n",
              "      <td>0.033086</td>\n",
              "      <td>0.028421</td>\n",
              "      <td>1.000000</td>\n",
              "      <td>0.244134</td>\n",
              "      <td>-0.004968</td>\n",
              "      <td>-0.009950</td>\n",
              "      <td>...</td>\n",
              "      <td>0.008163</td>\n",
              "      <td>0.003537</td>\n",
              "      <td>-0.001957</td>\n",
              "      <td>0.006007</td>\n",
              "      <td>0.004916</td>\n",
              "      <td>0.003827</td>\n",
              "      <td>0.003170</td>\n",
              "      <td>0.002873</td>\n",
              "      <td>-0.002405</td>\n",
              "      <td>0.002470</td>\n",
              "    </tr>\n",
              "    <tr>\n",
              "      <th>iptu</th>\n",
              "      <td>-0.000274</td>\n",
              "      <td>0.019715</td>\n",
              "      <td>0.016836</td>\n",
              "      <td>0.015873</td>\n",
              "      <td>0.014310</td>\n",
              "      <td>0.013556</td>\n",
              "      <td>0.244134</td>\n",
              "      <td>1.000000</td>\n",
              "      <td>-0.004333</td>\n",
              "      <td>-0.006780</td>\n",
              "      <td>...</td>\n",
              "      <td>0.000379</td>\n",
              "      <td>-0.004936</td>\n",
              "      <td>-0.004035</td>\n",
              "      <td>-0.008498</td>\n",
              "      <td>-0.004252</td>\n",
              "      <td>0.000242</td>\n",
              "      <td>-0.000727</td>\n",
              "      <td>-0.007001</td>\n",
              "      <td>-0.009371</td>\n",
              "      <td>0.000053</td>\n",
              "    </tr>\n",
              "    <tr>\n",
              "      <th>Zona Central</th>\n",
              "      <td>0.036728</td>\n",
              "      <td>-0.114792</td>\n",
              "      <td>-0.147446</td>\n",
              "      <td>-0.173617</td>\n",
              "      <td>-0.127157</td>\n",
              "      <td>-0.108510</td>\n",
              "      <td>-0.004968</td>\n",
              "      <td>-0.004333</td>\n",
              "      <td>1.000000</td>\n",
              "      <td>-0.062865</td>\n",
              "      <td>...</td>\n",
              "      <td>0.041039</td>\n",
              "      <td>0.054661</td>\n",
              "      <td>-0.003246</td>\n",
              "      <td>0.040682</td>\n",
              "      <td>0.031977</td>\n",
              "      <td>0.011899</td>\n",
              "      <td>-0.014831</td>\n",
              "      <td>0.047931</td>\n",
              "      <td>0.044552</td>\n",
              "      <td>-0.000577</td>\n",
              "    </tr>\n",
              "    <tr>\n",
              "      <th>Zona Norte</th>\n",
              "      <td>-0.005071</td>\n",
              "      <td>-0.178557</td>\n",
              "      <td>-0.189841</td>\n",
              "      <td>-0.143050</td>\n",
              "      <td>-0.211377</td>\n",
              "      <td>-0.106706</td>\n",
              "      <td>-0.009950</td>\n",
              "      <td>-0.006780</td>\n",
              "      <td>-0.062865</td>\n",
              "      <td>1.000000</td>\n",
              "      <td>...</td>\n",
              "      <td>-0.122777</td>\n",
              "      <td>0.005556</td>\n",
              "      <td>-0.013955</td>\n",
              "      <td>-0.074236</td>\n",
              "      <td>-0.010958</td>\n",
              "      <td>-0.126132</td>\n",
              "      <td>-0.006992</td>\n",
              "      <td>-0.034720</td>\n",
              "      <td>0.004105</td>\n",
              "      <td>0.015241</td>\n",
              "    </tr>\n",
              "    <tr>\n",
              "      <th>Zona Oeste</th>\n",
              "      <td>-0.002460</td>\n",
              "      <td>0.151639</td>\n",
              "      <td>0.205533</td>\n",
              "      <td>0.207359</td>\n",
              "      <td>0.241595</td>\n",
              "      <td>0.207585</td>\n",
              "      <td>0.001707</td>\n",
              "      <td>-0.005226</td>\n",
              "      <td>-0.184704</td>\n",
              "      <td>-0.539017</td>\n",
              "      <td>...</td>\n",
              "      <td>0.323176</td>\n",
              "      <td>-0.029318</td>\n",
              "      <td>0.365153</td>\n",
              "      <td>0.135250</td>\n",
              "      <td>-0.037072</td>\n",
              "      <td>0.388817</td>\n",
              "      <td>0.242234</td>\n",
              "      <td>-0.026336</td>\n",
              "      <td>-0.039743</td>\n",
              "      <td>0.261833</td>\n",
              "    </tr>\n",
              "    <tr>\n",
              "      <th>Zona Sul</th>\n",
              "      <td>-0.005480</td>\n",
              "      <td>0.017797</td>\n",
              "      <td>-0.025105</td>\n",
              "      <td>-0.059598</td>\n",
              "      <td>-0.056193</td>\n",
              "      <td>-0.114957</td>\n",
              "      <td>0.008546</td>\n",
              "      <td>0.013785</td>\n",
              "      <td>-0.075871</td>\n",
              "      <td>-0.221411</td>\n",
              "      <td>...</td>\n",
              "      <td>-0.291322</td>\n",
              "      <td>0.010974</td>\n",
              "      <td>-0.422360</td>\n",
              "      <td>-0.109950</td>\n",
              "      <td>0.042788</td>\n",
              "      <td>-0.356350</td>\n",
              "      <td>-0.277683</td>\n",
              "      <td>0.045567</td>\n",
              "      <td>0.028298</td>\n",
              "      <td>-0.325884</td>\n",
              "    </tr>\n",
              "    <tr>\n",
              "      <th>Academia</th>\n",
              "      <td>0.026595</td>\n",
              "      <td>0.009965</td>\n",
              "      <td>0.087649</td>\n",
              "      <td>0.075694</td>\n",
              "      <td>0.213983</td>\n",
              "      <td>0.107673</td>\n",
              "      <td>0.008163</td>\n",
              "      <td>0.000379</td>\n",
              "      <td>0.041039</td>\n",
              "      <td>-0.122777</td>\n",
              "      <td>...</td>\n",
              "      <td>1.000000</td>\n",
              "      <td>0.173393</td>\n",
              "      <td>0.564811</td>\n",
              "      <td>0.393738</td>\n",
              "      <td>0.248966</td>\n",
              "      <td>0.677308</td>\n",
              "      <td>0.533067</td>\n",
              "      <td>0.275464</td>\n",
              "      <td>0.178658</td>\n",
              "      <td>0.562402</td>\n",
              "    </tr>\n",
              "    <tr>\n",
              "      <th>Animais permitidos</th>\n",
              "      <td>0.059550</td>\n",
              "      <td>-0.023159</td>\n",
              "      <td>-0.053207</td>\n",
              "      <td>-0.030885</td>\n",
              "      <td>-0.005136</td>\n",
              "      <td>-0.011602</td>\n",
              "      <td>0.003537</td>\n",
              "      <td>-0.004936</td>\n",
              "      <td>0.054661</td>\n",
              "      <td>0.005556</td>\n",
              "      <td>...</td>\n",
              "      <td>0.173393</td>\n",
              "      <td>1.000000</td>\n",
              "      <td>0.064023</td>\n",
              "      <td>0.433206</td>\n",
              "      <td>0.233069</td>\n",
              "      <td>0.031843</td>\n",
              "      <td>0.086779</td>\n",
              "      <td>0.532738</td>\n",
              "      <td>0.514210</td>\n",
              "      <td>0.130017</td>\n",
              "    </tr>\n",
              "    <tr>\n",
              "      <th>Churrasqueira</th>\n",
              "      <td>0.012856</td>\n",
              "      <td>-0.028763</td>\n",
              "      <td>0.031301</td>\n",
              "      <td>0.073725</td>\n",
              "      <td>0.131549</td>\n",
              "      <td>0.085402</td>\n",
              "      <td>-0.001957</td>\n",
              "      <td>-0.004035</td>\n",
              "      <td>-0.003246</td>\n",
              "      <td>-0.013955</td>\n",
              "      <td>...</td>\n",
              "      <td>0.564811</td>\n",
              "      <td>0.064023</td>\n",
              "      <td>1.000000</td>\n",
              "      <td>0.235522</td>\n",
              "      <td>0.104030</td>\n",
              "      <td>0.627627</td>\n",
              "      <td>0.495440</td>\n",
              "      <td>0.127616</td>\n",
              "      <td>0.064868</td>\n",
              "      <td>0.512298</td>\n",
              "    </tr>\n",
              "    <tr>\n",
              "      <th>Condomínio fechado</th>\n",
              "      <td>0.049629</td>\n",
              "      <td>-0.011779</td>\n",
              "      <td>-0.027415</td>\n",
              "      <td>0.000931</td>\n",
              "      <td>0.076959</td>\n",
              "      <td>0.027732</td>\n",
              "      <td>0.006007</td>\n",
              "      <td>-0.008498</td>\n",
              "      <td>0.040682</td>\n",
              "      <td>-0.074236</td>\n",
              "      <td>...</td>\n",
              "      <td>0.393738</td>\n",
              "      <td>0.433206</td>\n",
              "      <td>0.235522</td>\n",
              "      <td>1.000000</td>\n",
              "      <td>0.270001</td>\n",
              "      <td>0.248136</td>\n",
              "      <td>0.225580</td>\n",
              "      <td>0.545523</td>\n",
              "      <td>0.513177</td>\n",
              "      <td>0.256225</td>\n",
              "    </tr>\n",
              "    <tr>\n",
              "      <th>Elevador</th>\n",
              "      <td>0.037333</td>\n",
              "      <td>0.032502</td>\n",
              "      <td>0.059639</td>\n",
              "      <td>0.036773</td>\n",
              "      <td>0.088714</td>\n",
              "      <td>0.026097</td>\n",
              "      <td>0.004916</td>\n",
              "      <td>-0.004252</td>\n",
              "      <td>0.031977</td>\n",
              "      <td>-0.010958</td>\n",
              "      <td>...</td>\n",
              "      <td>0.248966</td>\n",
              "      <td>0.233069</td>\n",
              "      <td>0.104030</td>\n",
              "      <td>0.270001</td>\n",
              "      <td>1.000000</td>\n",
              "      <td>0.148361</td>\n",
              "      <td>0.158762</td>\n",
              "      <td>0.301298</td>\n",
              "      <td>0.257097</td>\n",
              "      <td>0.149920</td>\n",
              "    </tr>\n",
              "    <tr>\n",
              "      <th>Piscina</th>\n",
              "      <td>0.008669</td>\n",
              "      <td>0.032726</td>\n",
              "      <td>0.109611</td>\n",
              "      <td>0.106559</td>\n",
              "      <td>0.234470</td>\n",
              "      <td>0.137882</td>\n",
              "      <td>0.003827</td>\n",
              "      <td>0.000242</td>\n",
              "      <td>0.011899</td>\n",
              "      <td>-0.126132</td>\n",
              "      <td>...</td>\n",
              "      <td>0.677308</td>\n",
              "      <td>0.031843</td>\n",
              "      <td>0.627627</td>\n",
              "      <td>0.248136</td>\n",
              "      <td>0.148361</td>\n",
              "      <td>1.000000</td>\n",
              "      <td>0.505799</td>\n",
              "      <td>0.134541</td>\n",
              "      <td>0.050274</td>\n",
              "      <td>0.516165</td>\n",
              "    </tr>\n",
              "    <tr>\n",
              "      <th>Playground</th>\n",
              "      <td>0.017521</td>\n",
              "      <td>-0.008757</td>\n",
              "      <td>0.067896</td>\n",
              "      <td>0.101537</td>\n",
              "      <td>0.147024</td>\n",
              "      <td>0.098519</td>\n",
              "      <td>0.003170</td>\n",
              "      <td>-0.000727</td>\n",
              "      <td>-0.014831</td>\n",
              "      <td>-0.006992</td>\n",
              "      <td>...</td>\n",
              "      <td>0.533067</td>\n",
              "      <td>0.086779</td>\n",
              "      <td>0.495440</td>\n",
              "      <td>0.225580</td>\n",
              "      <td>0.158762</td>\n",
              "      <td>0.505799</td>\n",
              "      <td>1.000000</td>\n",
              "      <td>0.181834</td>\n",
              "      <td>0.099470</td>\n",
              "      <td>0.593953</td>\n",
              "    </tr>\n",
              "    <tr>\n",
              "      <th>Portaria 24h</th>\n",
              "      <td>0.039459</td>\n",
              "      <td>-0.032905</td>\n",
              "      <td>-0.065413</td>\n",
              "      <td>-0.034249</td>\n",
              "      <td>0.008363</td>\n",
              "      <td>-0.016793</td>\n",
              "      <td>0.002873</td>\n",
              "      <td>-0.007001</td>\n",
              "      <td>0.047931</td>\n",
              "      <td>-0.034720</td>\n",
              "      <td>...</td>\n",
              "      <td>0.275464</td>\n",
              "      <td>0.532738</td>\n",
              "      <td>0.127616</td>\n",
              "      <td>0.545523</td>\n",
              "      <td>0.301298</td>\n",
              "      <td>0.134541</td>\n",
              "      <td>0.181834</td>\n",
              "      <td>1.000000</td>\n",
              "      <td>0.715982</td>\n",
              "      <td>0.212578</td>\n",
              "    </tr>\n",
              "    <tr>\n",
              "      <th>Portão eletrônico</th>\n",
              "      <td>0.036784</td>\n",
              "      <td>-0.009866</td>\n",
              "      <td>-0.051135</td>\n",
              "      <td>-0.029047</td>\n",
              "      <td>0.017647</td>\n",
              "      <td>-0.007289</td>\n",
              "      <td>-0.002405</td>\n",
              "      <td>-0.009371</td>\n",
              "      <td>0.044552</td>\n",
              "      <td>0.004105</td>\n",
              "      <td>...</td>\n",
              "      <td>0.178658</td>\n",
              "      <td>0.514210</td>\n",
              "      <td>0.064868</td>\n",
              "      <td>0.513177</td>\n",
              "      <td>0.257097</td>\n",
              "      <td>0.050274</td>\n",
              "      <td>0.099470</td>\n",
              "      <td>0.715982</td>\n",
              "      <td>1.000000</td>\n",
              "      <td>0.119684</td>\n",
              "    </tr>\n",
              "    <tr>\n",
              "      <th>Salão de festas</th>\n",
              "      <td>0.020838</td>\n",
              "      <td>-0.024082</td>\n",
              "      <td>0.054460</td>\n",
              "      <td>0.080324</td>\n",
              "      <td>0.126010</td>\n",
              "      <td>0.094937</td>\n",
              "      <td>0.002470</td>\n",
              "      <td>0.000053</td>\n",
              "      <td>-0.000577</td>\n",
              "      <td>0.015241</td>\n",
              "      <td>...</td>\n",
              "      <td>0.562402</td>\n",
              "      <td>0.130017</td>\n",
              "      <td>0.512298</td>\n",
              "      <td>0.256225</td>\n",
              "      <td>0.149920</td>\n",
              "      <td>0.516165</td>\n",
              "      <td>0.593953</td>\n",
              "      <td>0.212578</td>\n",
              "      <td>0.119684</td>\n",
              "      <td>1.000000</td>\n",
              "    </tr>\n",
              "  </tbody>\n",
              "</table>\n",
              "<p>22 rows × 22 columns</p>\n",
              "</div>\n",
              "      <button class=\"colab-df-convert\" onclick=\"convertToInteractive('df-16d12e64-8a5b-42bc-9797-c940bb72e8c1')\"\n",
              "              title=\"Convert this dataframe to an interactive table.\"\n",
              "              style=\"display:none;\">\n",
              "        \n",
              "  <svg xmlns=\"http://www.w3.org/2000/svg\" height=\"24px\"viewBox=\"0 0 24 24\"\n",
              "       width=\"24px\">\n",
              "    <path d=\"M0 0h24v24H0V0z\" fill=\"none\"/>\n",
              "    <path d=\"M18.56 5.44l.94 2.06.94-2.06 2.06-.94-2.06-.94-.94-2.06-.94 2.06-2.06.94zm-11 1L8.5 8.5l.94-2.06 2.06-.94-2.06-.94L8.5 2.5l-.94 2.06-2.06.94zm10 10l.94 2.06.94-2.06 2.06-.94-2.06-.94-.94-2.06-.94 2.06-2.06.94z\"/><path d=\"M17.41 7.96l-1.37-1.37c-.4-.4-.92-.59-1.43-.59-.52 0-1.04.2-1.43.59L10.3 9.45l-7.72 7.72c-.78.78-.78 2.05 0 2.83L4 21.41c.39.39.9.59 1.41.59.51 0 1.02-.2 1.41-.59l7.78-7.78 2.81-2.81c.8-.78.8-2.07 0-2.86zM5.41 20L4 18.59l7.72-7.72 1.47 1.35L5.41 20z\"/>\n",
              "  </svg>\n",
              "      </button>\n",
              "      \n",
              "  <style>\n",
              "    .colab-df-container {\n",
              "      display:flex;\n",
              "      flex-wrap:wrap;\n",
              "      gap: 12px;\n",
              "    }\n",
              "\n",
              "    .colab-df-convert {\n",
              "      background-color: #E8F0FE;\n",
              "      border: none;\n",
              "      border-radius: 50%;\n",
              "      cursor: pointer;\n",
              "      display: none;\n",
              "      fill: #1967D2;\n",
              "      height: 32px;\n",
              "      padding: 0 0 0 0;\n",
              "      width: 32px;\n",
              "    }\n",
              "\n",
              "    .colab-df-convert:hover {\n",
              "      background-color: #E2EBFA;\n",
              "      box-shadow: 0px 1px 2px rgba(60, 64, 67, 0.3), 0px 1px 3px 1px rgba(60, 64, 67, 0.15);\n",
              "      fill: #174EA6;\n",
              "    }\n",
              "\n",
              "    [theme=dark] .colab-df-convert {\n",
              "      background-color: #3B4455;\n",
              "      fill: #D2E3FC;\n",
              "    }\n",
              "\n",
              "    [theme=dark] .colab-df-convert:hover {\n",
              "      background-color: #434B5C;\n",
              "      box-shadow: 0px 1px 3px 1px rgba(0, 0, 0, 0.15);\n",
              "      filter: drop-shadow(0px 1px 2px rgba(0, 0, 0, 0.3));\n",
              "      fill: #FFFFFF;\n",
              "    }\n",
              "  </style>\n",
              "\n",
              "      <script>\n",
              "        const buttonEl =\n",
              "          document.querySelector('#df-16d12e64-8a5b-42bc-9797-c940bb72e8c1 button.colab-df-convert');\n",
              "        buttonEl.style.display =\n",
              "          google.colab.kernel.accessAllowed ? 'block' : 'none';\n",
              "\n",
              "        async function convertToInteractive(key) {\n",
              "          const element = document.querySelector('#df-16d12e64-8a5b-42bc-9797-c940bb72e8c1');\n",
              "          const dataTable =\n",
              "            await google.colab.kernel.invokeFunction('convertToInteractive',\n",
              "                                                     [key], {});\n",
              "          if (!dataTable) return;\n",
              "\n",
              "          const docLinkHtml = 'Like what you see? Visit the ' +\n",
              "            '<a target=\"_blank\" href=https://colab.research.google.com/notebooks/data_table.ipynb>data table notebook</a>'\n",
              "            + ' to learn more about interactive tables.';\n",
              "          element.innerHTML = '';\n",
              "          dataTable['output_type'] = 'display_data';\n",
              "          await google.colab.output.renderOutput(dataTable, element);\n",
              "          const docLink = document.createElement('div');\n",
              "          docLink.innerHTML = docLinkHtml;\n",
              "          element.appendChild(docLink);\n",
              "        }\n",
              "      </script>\n",
              "    </div>\n",
              "  </div>\n",
              "  "
            ]
          },
          "metadata": {},
          "execution_count": 40
        }
      ]
    },
    {
      "cell_type": "code",
      "source": [
        "import matplotlib.pyplot as plt\n",
        "import seaborn as sns"
      ],
      "metadata": {
        "id": "r0PGJj8mtg5K"
      },
      "execution_count": null,
      "outputs": []
    },
    {
      "cell_type": "code",
      "source": [
        "plt.figure(figsize=(12,10))\n",
        "paleta = sns.color_palette(\"mako\", as_cmap=True)\n",
        "sns.heatmap(dataframe_correlacao.round(1), annot=True, cmap = paleta)"
      ],
      "metadata": {
        "colab": {
          "base_uri": "https://localhost:8080/",
          "height": 706
        },
        "id": "4sFNW3m9tzy8",
        "outputId": "d32ca64d-5c39-43c4-b648-e72521edcfcb"
      },
      "execution_count": null,
      "outputs": [
        {
          "output_type": "execute_result",
          "data": {
            "text/plain": [
              "<matplotlib.axes._subplots.AxesSubplot at 0x7fa189696190>"
            ]
          },
          "metadata": {},
          "execution_count": 42
        },
        {
          "output_type": "display_data",
          "data": {
            "text/plain": [
              "<Figure size 864x720 with 2 Axes>"
            ],
            "image/png": "[encoded data removed]"
          },
          "metadata": {
            "needs_background": "light"
          }
        }
      ]
    },
    {
      "cell_type": "markdown",
      "source": [
        "### Ajuste e Previsao"
      ],
      "metadata": {
        "id": "hGKPPF33u9OO"
      }
    },
    {
      "cell_type": "code",
      "source": [
        "from pyspark.ml.regression import LinearRegression"
      ],
      "metadata": {
        "id": "pKdeGRtOuQub"
      },
      "execution_count": null,
      "outputs": []
    },
    {
      "cell_type": "code",
      "source": [
        "treino, teste = dataset_prep.randomSplit([0.7,0.3], seed = 66)"
      ],
      "metadata": {
        "id": "GYht7IssvDCq"
      },
      "execution_count": null,
      "outputs": []
    },
    {
      "cell_type": "code",
      "source": [
        "treino.count()"
      ],
      "metadata": {
        "colab": {
          "base_uri": "https://localhost:8080/"
        },
        "id": "Y9vrBGnRvImc",
        "outputId": "fd423885-7577-4fcf-c1f2-13a929c265f8"
      },
      "execution_count": null,
      "outputs": [
        {
          "output_type": "execute_result",
          "data": {
            "text/plain": [
              "228118"
            ]
          },
          "metadata": {},
          "execution_count": 45
        }
      ]
    },
    {
      "cell_type": "code",
      "source": [
        "teste.count()"
      ],
      "metadata": {
        "colab": {
          "base_uri": "https://localhost:8080/"
        },
        "id": "h8kRfy9pvNGt",
        "outputId": "5a8a77df-227c-4991-d0e9-b45e7a54b8e2"
      },
      "execution_count": null,
      "outputs": [
        {
          "output_type": "execute_result",
          "data": {
            "text/plain": [
              "97761"
            ]
          },
          "metadata": {},
          "execution_count": 46
        }
      ]
    },
    {
      "cell_type": "code",
      "source": [
        "lr = LinearRegression()"
      ],
      "metadata": {
        "id": "M5G_X886vU-v"
      },
      "execution_count": null,
      "outputs": []
    },
    {
      "cell_type": "code",
      "source": [
        "modelo_lr = lr.fit(treino)"
      ],
      "metadata": {
        "id": "kqr6YF_Wvf8H"
      },
      "execution_count": null,
      "outputs": []
    },
    {
      "cell_type": "code",
      "source": [
        "previsoes_lr_treino = modelo_lr.transform(treino)"
      ],
      "metadata": {
        "id": "QgJB23rdvige"
      },
      "execution_count": null,
      "outputs": []
    },
    {
      "cell_type": "code",
      "source": [
        "previsoes_lr_treino.show()"
      ],
      "metadata": {
        "colab": {
          "base_uri": "https://localhost:8080/"
        },
        "id": "0UpMem5pvvnP",
        "outputId": "1088361e-83a6-4db3-ca62-e9ac73150da5"
      },
      "execution_count": null,
      "outputs": [
        {
          "output_type": "stream",
          "name": "stdout",
          "text": [
            "+--------------------+---------+-------------------+\n",
            "|            features|    label|         prediction|\n",
            "+--------------------+---------+-------------------+\n",
            "|(22,[0,1,2,3,4,5,...| 262000.0|  666046.4104776479|\n",
            "|(22,[0,1,2,3,4,5,...| 917000.0|  728147.9351262163|\n",
            "|(22,[0,1,2,3,4,5,...| 917000.0|  728147.9351262163|\n",
            "|(22,[0,1,2,3,4,5,...| 560000.0| 1200940.2835970921|\n",
            "|(22,[0,1,2,3,4,5,...| 560000.0| 1200940.2835970921|\n",
            "|(22,[0,1,2,3,4,5,...| 560000.0| 1200940.2835970921|\n",
            "|(22,[0,1,2,3,4,5,...| 730000.0| 1126531.9233383257|\n",
            "|(22,[0,1,2,3,4,5,...| 816000.0|  738655.9555953065|\n",
            "|(22,[0,1,2,3,4,5,...| 996000.0|  736658.0383522242|\n",
            "|(22,[0,1,2,3,4,5,...| 650000.0|  610875.8549585716|\n",
            "|(22,[0,1,2,3,4,5,...|1485400.0| 1004035.6844227059|\n",
            "|(22,[0,1,2,3,4,5,...| 220000.0|  779034.4178770737|\n",
            "|(22,[0,1,2,3,4,5,...| 220000.0|  779034.4178770737|\n",
            "|(22,[0,1,2,3,4,5,...|  99000.0|-133588.95826879548|\n",
            "|(22,[0,1,2,3,4,5,...| 620000.0|  73197.61926308423|\n",
            "|(22,[0,1,2,3,4,5,...| 620000.0|  73197.61926308423|\n",
            "|(22,[0,1,2,3,4,5,...| 620000.0|  73197.61926308423|\n",
            "|(22,[0,1,2,3,4,5,...| 750000.0|  37371.15134125689|\n",
            "|(22,[0,1,2,3,4,5,...| 750000.0|  37371.15134125689|\n",
            "|(22,[0,1,2,3,4,5,...| 750000.0|  37371.15134125689|\n",
            "+--------------------+---------+-------------------+\n",
            "only showing top 20 rows\n",
            "\n"
          ]
        }
      ]
    },
    {
      "cell_type": "markdown",
      "source": [
        "## **Avaliação dos modelos**\n",
        "\n",
        "As métricas que vamos utilizar para fazer a avaliação de como nossos modelos estão se comportando são:\n",
        "\n",
        "RMSE (ou Raiz do Erro Quadrático Médio): é a métrica que calcula a raiz quadrada do erro médio entre os valores reais e as predições da regressão. Quanto menor esse valor, melhor será o modelo, uma vez que estará cometendo menos erros.\n",
        "\n",
        "R2 (ou coeficiente de determinação): é uma medida estatística que representa a porcentagem de variação da variável resposta que é explicada pelo modelo de regressão. Por se tratar de uma porcentagem, seu valor varia de 0 a 1."
      ],
      "metadata": {
        "id": "DFRbYCGdwIu3"
      }
    },
    {
      "cell_type": "code",
      "source": [
        "resumo_treino =  modelo_lr.summary\n",
        "resumo_teste = modelo_lr.evaluate(teste)"
      ],
      "metadata": {
        "id": "o6i4hYpTvyOX"
      },
      "execution_count": null,
      "outputs": []
    },
    {
      "cell_type": "code",
      "source": [
        "print(\"Linear Regression\")\n",
        "print(\"=\"*30)\n",
        "print(\"Dados de Treino\")\n",
        "print(\"=\"*30)\n",
        "print(\"R2: %f\" % resumo_treino.r2)\n",
        "print(\"RMSE: %f\" % resumo_treino.rootMeanSquaredError)\n",
        "print(\"\")\n",
        "print(\"=\"*30)\n",
        "print(\"Dados de Teste\")\n",
        "print(\"=\"*30)\n",
        "print(\"R2: %f\" % resumo_teste.r2)\n",
        "print(\"RMSE: %f\" % resumo_teste.rootMeanSquaredError)"
      ],
      "metadata": {
        "colab": {
          "base_uri": "https://localhost:8080/"
        },
        "id": "znNxqiSgwVcw",
        "outputId": "ad5ff1b4-461d-4691-f784-d5ad3de89769"
      },
      "execution_count": null,
      "outputs": [
        {
          "output_type": "stream",
          "name": "stdout",
          "text": [
            "Linear Regression\n",
            "==============================\n",
            "Dados de Treino\n",
            "==============================\n",
            "R2: 0.699822\n",
            "RMSE: 823649.753738\n",
            "\n",
            "==============================\n",
            "Dados de Teste\n",
            "==============================\n",
            "R2: 0.695300\n",
            "RMSE: 829457.449319\n"
          ]
        }
      ]
    },
    {
      "cell_type": "markdown",
      "source": [
        "### Decision Tree Regressor"
      ],
      "metadata": {
        "id": "M9RbtHQjw37l"
      }
    },
    {
      "cell_type": "code",
      "source": [
        "from pyspark.ml.regression import DecisionTreeRegressor"
      ],
      "metadata": {
        "id": "VHkNS9ZXwX9K"
      },
      "execution_count": null,
      "outputs": []
    },
    {
      "cell_type": "code",
      "source": [
        "dtr = DecisionTreeRegressor(seed = 66, maxDepth = 7)"
      ],
      "metadata": {
        "id": "Q8ksgQVpyQBF"
      },
      "execution_count": null,
      "outputs": []
    },
    {
      "cell_type": "code",
      "source": [
        "modelo_dtr = dtr.fit(treino)"
      ],
      "metadata": {
        "id": "-gsLckXqyVpW"
      },
      "execution_count": null,
      "outputs": []
    },
    {
      "cell_type": "code",
      "source": [
        "previsoes_dtr_treino = modelo_dtr.transform(treino)"
      ],
      "metadata": {
        "id": "X1Tr5ejSyZvF"
      },
      "execution_count": null,
      "outputs": []
    },
    {
      "cell_type": "code",
      "source": [
        "previsoes_dtr_treino.show()"
      ],
      "metadata": {
        "colab": {
          "base_uri": "https://localhost:8080/"
        },
        "id": "gtnQQaUeybwE",
        "outputId": "35804603-af89-40f1-db24-ba3e4ab3fe39"
      },
      "execution_count": null,
      "outputs": [
        {
          "output_type": "stream",
          "name": "stdout",
          "text": [
            "+--------------------+---------+------------------+\n",
            "|            features|    label|        prediction|\n",
            "+--------------------+---------+------------------+\n",
            "|(22,[0,1,2,3,4,5,...| 262000.0| 648244.1554599603|\n",
            "|(22,[0,1,2,3,4,5,...| 917000.0| 648244.1554599603|\n",
            "|(22,[0,1,2,3,4,5,...| 917000.0| 648244.1554599603|\n",
            "|(22,[0,1,2,3,4,5,...| 560000.0| 915441.2203851904|\n",
            "|(22,[0,1,2,3,4,5,...| 560000.0| 915441.2203851904|\n",
            "|(22,[0,1,2,3,4,5,...| 560000.0| 915441.2203851904|\n",
            "|(22,[0,1,2,3,4,5,...| 730000.0| 915441.2203851904|\n",
            "|(22,[0,1,2,3,4,5,...| 816000.0| 648244.1554599603|\n",
            "|(22,[0,1,2,3,4,5,...| 996000.0|1006852.5104364327|\n",
            "|(22,[0,1,2,3,4,5,...| 650000.0| 732616.6529680365|\n",
            "|(22,[0,1,2,3,4,5,...|1485400.0| 1323140.727071211|\n",
            "|(22,[0,1,2,3,4,5,...| 220000.0| 915441.2203851904|\n",
            "|(22,[0,1,2,3,4,5,...| 220000.0| 915441.2203851904|\n",
            "|(22,[0,1,2,3,4,5,...|  99000.0| 401162.2504278954|\n",
            "|(22,[0,1,2,3,4,5,...| 620000.0| 401162.2504278954|\n",
            "|(22,[0,1,2,3,4,5,...| 620000.0| 401162.2504278954|\n",
            "|(22,[0,1,2,3,4,5,...| 620000.0| 401162.2504278954|\n",
            "|(22,[0,1,2,3,4,5,...| 750000.0|500509.91364421416|\n",
            "|(22,[0,1,2,3,4,5,...| 750000.0|500509.91364421416|\n",
            "|(22,[0,1,2,3,4,5,...| 750000.0|500509.91364421416|\n",
            "+--------------------+---------+------------------+\n",
            "only showing top 20 rows\n",
            "\n"
          ]
        }
      ]
    },
    {
      "cell_type": "code",
      "source": [
        "from pyspark.ml.evaluation import RegressionEvaluator"
      ],
      "metadata": {
        "id": "8G1pLaW-yd_w"
      },
      "execution_count": null,
      "outputs": []
    },
    {
      "cell_type": "code",
      "source": [
        "evaluator = RegressionEvaluator()\n",
        "\n",
        "print(evaluator.evaluate(previsoes_dtr_treino,{evaluator.metricName: \"r2\"}))\n",
        "print(evaluator.evaluate(previsoes_dtr_treino,{evaluator.metricName: \"rmse\"}))"
      ],
      "metadata": {
        "colab": {
          "base_uri": "https://localhost:8080/"
        },
        "id": "bPhlGLyhyq2j",
        "outputId": "57f3f8a3-5ece-46b6-9be0-eda80f29859e"
      },
      "execution_count": null,
      "outputs": [
        {
          "output_type": "stream",
          "name": "stdout",
          "text": [
            "0.8214379764586428\n",
            "635254.724242968\n"
          ]
        }
      ]
    },
    {
      "cell_type": "code",
      "source": [
        "previsoes_dtr_teste = modelo_dtr.transform(teste)"
      ],
      "metadata": {
        "id": "wp3NJviLyvFJ"
      },
      "execution_count": null,
      "outputs": []
    },
    {
      "cell_type": "code",
      "source": [
        "previsoes_dtr_teste.show()"
      ],
      "metadata": {
        "colab": {
          "base_uri": "https://localhost:8080/"
        },
        "id": "sOOupztRy16d",
        "outputId": "c6fe4aeb-0adf-4c0e-c375-8cde27fff92e"
      },
      "execution_count": null,
      "outputs": [
        {
          "output_type": "stream",
          "name": "stdout",
          "text": [
            "+--------------------+--------+------------------+\n",
            "|            features|   label|        prediction|\n",
            "+--------------------+--------+------------------+\n",
            "|(22,[0,1,2,3,4,5,...|262000.0| 648244.1554599603|\n",
            "|(22,[0,1,2,3,4,5,...|262000.0| 648244.1554599603|\n",
            "|(22,[0,1,2,3,4,5,...|262000.0| 648244.1554599603|\n",
            "|(22,[0,1,2,3,4,5,...|917000.0| 648244.1554599603|\n",
            "|(22,[0,1,2,3,4,5,...|917000.0| 648244.1554599603|\n",
            "|(22,[0,1,2,3,4,5,...|560000.0| 915441.2203851904|\n",
            "|(22,[0,1,2,3,4,5,...|630000.0|1777303.8208675263|\n",
            "|(22,[0,1,2,3,4,5,...|420000.0| 401162.2504278954|\n",
            "|(22,[0,1,2,3,4,5,...| 99000.0| 401162.2504278954|\n",
            "|(22,[0,1,2,3,4,5,...| 99000.0| 401162.2504278954|\n",
            "|(22,[0,1,2,3,4,5,...| 99000.0| 401162.2504278954|\n",
            "|(22,[0,1,2,3,4,5,...|620000.0| 401162.2504278954|\n",
            "|(22,[0,1,2,3,4,5,...|690000.0| 732616.6529680365|\n",
            "|(22,[0,1,2,3,4,5,...|897000.0| 915441.2203851904|\n",
            "|(22,[0,1,2,3,4,5,...|897000.0| 915441.2203851904|\n",
            "|(22,[0,1,2,3,4,5,...|897000.0| 915441.2203851904|\n",
            "|(22,[0,1,2,3,4,5,...|529000.0| 732616.6529680365|\n",
            "|(22,[0,1,2,3,4,5,...|570000.0| 915441.2203851904|\n",
            "|(22,[0,1,2,3,4,5,...|480000.0| 732616.6529680365|\n",
            "|(22,[0,1,2,3,4,5,...|800000.0| 732616.6529680365|\n",
            "+--------------------+--------+------------------+\n",
            "only showing top 20 rows\n",
            "\n"
          ]
        }
      ]
    },
    {
      "cell_type": "code",
      "source": [
        "print(\"Linear Regression\")\n",
        "print(\"=\"*30)\n",
        "print(\"Dados de Treino\")\n",
        "print(\"=\"*30)\n",
        "print(\"R2: %f\" % evaluator.evaluate(previsoes_dtr_treino,{evaluator.metricName: \"r2\"}))\n",
        "print(\"RMSE: %f\" % evaluator.evaluate(previsoes_dtr_treino,{evaluator.metricName: \"rmse\"}))\n",
        "print(\"\")\n",
        "print(\"=\"*30)\n",
        "print(\"Dados de Teste\")\n",
        "print(\"=\"*30)\n",
        "print(\"R2: %f\" % evaluator.evaluate(previsoes_dtr_teste,{evaluator.metricName: \"r2\"}))\n",
        "print(\"RMSE: %f\" % evaluator.evaluate(previsoes_dtr_teste,{evaluator.metricName: \"rmse\"}))"
      ],
      "metadata": {
        "colab": {
          "base_uri": "https://localhost:8080/"
        },
        "id": "dFaThgm8y4e4",
        "outputId": "bf4e4a9e-941a-4fa7-ff82-cd5fd7e6cfbf"
      },
      "execution_count": null,
      "outputs": [
        {
          "output_type": "stream",
          "name": "stdout",
          "text": [
            "Linear Regression\n",
            "==============================\n",
            "Dados de Treino\n",
            "==============================\n",
            "R2: 0.821438\n",
            "RMSE: 635254.724243\n",
            "\n",
            "==============================\n",
            "Dados de Teste\n",
            "==============================\n",
            "R2: 0.812515\n",
            "RMSE: 650641.356730\n"
          ]
        }
      ]
    },
    {
      "cell_type": "markdown",
      "source": [
        "### Random Forest"
      ],
      "metadata": {
        "id": "nKinS6lyzLTr"
      }
    },
    {
      "cell_type": "code",
      "source": [
        "from pyspark.ml.regression import RandomForestRegressor"
      ],
      "metadata": {
        "id": "hkwR_s4czAUF"
      },
      "execution_count": null,
      "outputs": []
    },
    {
      "cell_type": "code",
      "source": [
        "rfr = RandomForestRegressor(seed = 66, maxDepth = 7, numTrees = 10)"
      ],
      "metadata": {
        "id": "frnYDHMwzQEA"
      },
      "execution_count": null,
      "outputs": []
    },
    {
      "cell_type": "code",
      "source": [
        "modelo_rfr = rfr.fit(treino)"
      ],
      "metadata": {
        "id": "5dsogvgIzUl8"
      },
      "execution_count": null,
      "outputs": []
    },
    {
      "cell_type": "code",
      "source": [
        "previsoes_rfr_treino = modelo_rfr.transform(treino)"
      ],
      "metadata": {
        "id": "netKcFrzzX5k"
      },
      "execution_count": null,
      "outputs": []
    },
    {
      "cell_type": "code",
      "source": [
        "previsoes_rfr_treino.show()"
      ],
      "metadata": {
        "colab": {
          "base_uri": "https://localhost:8080/"
        },
        "id": "zzjrq3sczajs",
        "outputId": "3f681ac5-7148-4704-c3cf-9ac509b55e6f"
      },
      "execution_count": null,
      "outputs": [
        {
          "output_type": "stream",
          "name": "stdout",
          "text": [
            "+--------------------+---------+------------------+\n",
            "|            features|    label|        prediction|\n",
            "+--------------------+---------+------------------+\n",
            "|(22,[0,1,2,3,4,5,...| 262000.0| 552320.3587925207|\n",
            "|(22,[0,1,2,3,4,5,...| 917000.0| 591262.2581744991|\n",
            "|(22,[0,1,2,3,4,5,...| 917000.0| 591262.2581744991|\n",
            "|(22,[0,1,2,3,4,5,...| 560000.0| 1086804.114786175|\n",
            "|(22,[0,1,2,3,4,5,...| 560000.0| 1086804.114786175|\n",
            "|(22,[0,1,2,3,4,5,...| 560000.0| 1086804.114786175|\n",
            "|(22,[0,1,2,3,4,5,...| 730000.0|1045299.5369743279|\n",
            "|(22,[0,1,2,3,4,5,...| 816000.0|  579598.567725692|\n",
            "|(22,[0,1,2,3,4,5,...| 996000.0| 793772.5012001628|\n",
            "|(22,[0,1,2,3,4,5,...| 650000.0| 660797.6413879948|\n",
            "|(22,[0,1,2,3,4,5,...|1485400.0|1271084.4983855214|\n",
            "|(22,[0,1,2,3,4,5,...| 220000.0| 913215.6254756959|\n",
            "|(22,[0,1,2,3,4,5,...| 220000.0| 913215.6254756959|\n",
            "|(22,[0,1,2,3,4,5,...|  99000.0|325318.65515837824|\n",
            "|(22,[0,1,2,3,4,5,...| 620000.0|398296.58664393355|\n",
            "|(22,[0,1,2,3,4,5,...| 620000.0|398296.58664393355|\n",
            "|(22,[0,1,2,3,4,5,...| 620000.0|398296.58664393355|\n",
            "|(22,[0,1,2,3,4,5,...| 750000.0| 458046.9564117246|\n",
            "|(22,[0,1,2,3,4,5,...| 750000.0| 458046.9564117246|\n",
            "|(22,[0,1,2,3,4,5,...| 750000.0| 458046.9564117246|\n",
            "+--------------------+---------+------------------+\n",
            "only showing top 20 rows\n",
            "\n"
          ]
        }
      ]
    },
    {
      "cell_type": "code",
      "source": [
        "print(evaluator.evaluate(previsoes_rfr_treino,{evaluator.metricName: \"r2\"}))\n",
        "print(evaluator.evaluate(previsoes_rfr_treino,{evaluator.metricName: \"rmse\"}))"
      ],
      "metadata": {
        "colab": {
          "base_uri": "https://localhost:8080/"
        },
        "id": "SRskCb9NzdRM",
        "outputId": "40f206be-db43-4b3d-baf0-5d53a4fa978b"
      },
      "execution_count": null,
      "outputs": [
        {
          "output_type": "stream",
          "name": "stdout",
          "text": [
            "0.8291418482649071\n",
            "621399.9386781567\n"
          ]
        }
      ]
    },
    {
      "cell_type": "code",
      "source": [
        "previsoes_rfr_teste = modelo_rfr.transform(teste)\n",
        "previsoes_rfr_teste.show()"
      ],
      "metadata": {
        "colab": {
          "base_uri": "https://localhost:8080/"
        },
        "id": "-yFlWrCDzpS8",
        "outputId": "dae5a5b3-e686-49e1-bf02-5e071ec46ce5"
      },
      "execution_count": null,
      "outputs": [
        {
          "output_type": "stream",
          "name": "stdout",
          "text": [
            "+--------------------+--------+------------------+\n",
            "|            features|   label|        prediction|\n",
            "+--------------------+--------+------------------+\n",
            "|(22,[0,1,2,3,4,5,...|262000.0| 552320.3587925207|\n",
            "|(22,[0,1,2,3,4,5,...|262000.0| 552320.3587925207|\n",
            "|(22,[0,1,2,3,4,5,...|262000.0| 552320.3587925207|\n",
            "|(22,[0,1,2,3,4,5,...|917000.0| 591262.2581744991|\n",
            "|(22,[0,1,2,3,4,5,...|917000.0| 591262.2581744991|\n",
            "|(22,[0,1,2,3,4,5,...|560000.0| 1086804.114786175|\n",
            "|(22,[0,1,2,3,4,5,...|630000.0| 1328308.544976377|\n",
            "|(22,[0,1,2,3,4,5,...|420000.0|426204.78689023043|\n",
            "|(22,[0,1,2,3,4,5,...| 99000.0|325318.65515837824|\n",
            "|(22,[0,1,2,3,4,5,...| 99000.0|325318.65515837824|\n",
            "|(22,[0,1,2,3,4,5,...| 99000.0|325318.65515837824|\n",
            "|(22,[0,1,2,3,4,5,...|620000.0|398296.58664393355|\n",
            "|(22,[0,1,2,3,4,5,...|690000.0| 707351.8562067064|\n",
            "|(22,[0,1,2,3,4,5,...|897000.0| 1215579.665655269|\n",
            "|(22,[0,1,2,3,4,5,...|897000.0| 1215579.665655269|\n",
            "|(22,[0,1,2,3,4,5,...|897000.0| 1215579.665655269|\n",
            "|(22,[0,1,2,3,4,5,...|529000.0| 710816.0438593549|\n",
            "|(22,[0,1,2,3,4,5,...|570000.0| 1086804.114786175|\n",
            "|(22,[0,1,2,3,4,5,...|480000.0| 747390.9713645602|\n",
            "|(22,[0,1,2,3,4,5,...|800000.0|  670908.849749892|\n",
            "+--------------------+--------+------------------+\n",
            "only showing top 20 rows\n",
            "\n"
          ]
        }
      ]
    },
    {
      "cell_type": "code",
      "source": [
        "print(\"Linear Regression\")\n",
        "print(\"=\"*30)\n",
        "print(\"Dados de Treino\")\n",
        "print(\"=\"*30)\n",
        "print(\"R2: %f\" % evaluator.evaluate(previsoes_rfr_treino,{evaluator.metricName: \"r2\"}))\n",
        "print(\"RMSE: %f\" % evaluator.evaluate(previsoes_rfr_treino,{evaluator.metricName: \"rmse\"}))\n",
        "print(\"\")\n",
        "print(\"=\"*30)\n",
        "print(\"Dados de Teste\")\n",
        "print(\"=\"*30)\n",
        "print(\"R2: %f\" % evaluator.evaluate(previsoes_rfr_teste,{evaluator.metricName: \"r2\"}))\n",
        "print(\"RMSE: %f\" % evaluator.evaluate(previsoes_rfr_teste,{evaluator.metricName: \"rmse\"}))"
      ],
      "metadata": {
        "colab": {
          "base_uri": "https://localhost:8080/"
        },
        "id": "zL001ZLHz1NC",
        "outputId": "bbf58a67-75ac-438c-fd59-3ae0bc5db1e3"
      },
      "execution_count": null,
      "outputs": [
        {
          "output_type": "stream",
          "name": "stdout",
          "text": [
            "Linear Regression\n",
            "==============================\n",
            "Dados de Treino\n",
            "==============================\n",
            "R2: 0.829142\n",
            "RMSE: 621399.938678\n",
            "\n",
            "==============================\n",
            "Dados de Teste\n",
            "==============================\n",
            "R2: 0.825038\n",
            "RMSE: 628535.671746\n"
          ]
        }
      ]
    },
    {
      "cell_type": "markdown",
      "source": [
        "## **Otimizacao com Cross Validation**"
      ],
      "metadata": {
        "id": "3rfuFipp0F9z"
      }
    },
    {
      "cell_type": "code",
      "source": [
        "from pyspark.ml.tuning import CrossValidator, ParamGridBuilder\n",
        "from pyspark.ml.evaluation import RegressionEvaluator"
      ],
      "metadata": {
        "id": "1zQhqq9Yz5SC"
      },
      "execution_count": null,
      "outputs": []
    },
    {
      "cell_type": "code",
      "source": [
        "lro = LinearRegression()"
      ],
      "metadata": {
        "id": "fMJHB1q00Nuw"
      },
      "execution_count": null,
      "outputs": []
    },
    {
      "cell_type": "code",
      "source": [
        "grid = ParamGridBuilder()\\\n",
        "  .addGrid(dtr.maxDepth,[2,5,10])\\\n",
        "  .addGrid(dtr.maxBins,[10,32,45])\\\n",
        "  .build()"
      ],
      "metadata": {
        "id": "xx2NPGKk0RF-"
      },
      "execution_count": null,
      "outputs": []
    },
    {
      "cell_type": "code",
      "source": [
        "evaluator = RegressionEvaluator()"
      ],
      "metadata": {
        "id": "VDo_9AuE0TaA"
      },
      "execution_count": null,
      "outputs": []
    },
    {
      "cell_type": "code",
      "source": [
        "lro_cv = CrossValidator(\n",
        "    estimator = lro,\n",
        "    estimatorParamMaps=grid,\n",
        "    evaluator=evaluator,\n",
        "    numFolds =3,\n",
        "    seed=66\n",
        ")"
      ],
      "metadata": {
        "id": "FgQCM7960Wk0"
      },
      "execution_count": null,
      "outputs": []
    },
    {
      "cell_type": "code",
      "source": [
        "modelo_lro_cv = lro_cv.fit(treino)"
      ],
      "metadata": {
        "id": "hOc9SnY30aj5"
      },
      "execution_count": null,
      "outputs": []
    },
    {
      "cell_type": "code",
      "source": [
        "previsoes_lro_cv_teste = modelo_lro_cv.transform(teste)"
      ],
      "metadata": {
        "id": "ty0UOGpp0dBV"
      },
      "execution_count": null,
      "outputs": []
    },
    {
      "cell_type": "code",
      "source": [
        "print(\"Linear Regression\")\n",
        "print(\"=\"*30)\n",
        "print(\"Dados de Treino\")\n",
        "print(\"=\"*30)\n",
        "print(\"R2: %f\" % resumo_teste.r2)\n",
        "print(\"RMSE: %f\" % resumo_teste.rootMeanSquaredError)\n",
        "print(\"\")\n",
        "print(\"=\"*30)\n",
        "print(\"Dados de Teste\")\n",
        "print(\"=\"*30)\n",
        "print(\"R2: %f\" % evaluator.evaluate(previsoes_lro_cv_teste,{evaluator.metricName: \"r2\"}))\n",
        "print(\"RMSE: %f\" % evaluator.evaluate(previsoes_lro_cv_teste,{evaluator.metricName: \"rmse\"}))"
      ],
      "metadata": {
        "colab": {
          "base_uri": "https://localhost:8080/"
        },
        "id": "_IoCpH680goS",
        "outputId": "f32d019e-6b5a-4bd0-9bfb-cd25fc0a3b7a"
      },
      "execution_count": null,
      "outputs": [
        {
          "output_type": "stream",
          "name": "stdout",
          "text": [
            "Linear Regression\n",
            "==============================\n",
            "Dados de Treino\n",
            "==============================\n",
            "R2: 0.695300\n",
            "RMSE: 829457.449319\n",
            "\n",
            "==============================\n",
            "Dados de Teste\n",
            "==============================\n",
            "R2: 0.695300\n",
            "RMSE: 829457.449319\n"
          ]
        }
      ]
    },
    {
      "cell_type": "markdown",
      "source": [
        "## **Random Forest com Cross Validation**"
      ],
      "metadata": {
        "id": "9srlaZmi05w9"
      }
    },
    {
      "cell_type": "code",
      "source": [
        "grid = ParamGridBuilder()\\\n",
        "  .addGrid(rfr.numTrees,[10,20,30])\\\n",
        "  .addGrid(rfr.maxDepth,[5,10])\\\n",
        "  .addGrid(rfr.maxBins,[10,32,45])\\\n",
        "  .build()"
      ],
      "metadata": {
        "id": "mOQsXYpV0jgu"
      },
      "execution_count": null,
      "outputs": []
    },
    {
      "cell_type": "code",
      "source": [
        "rfr_cv = CrossValidator(\n",
        "    estimator = rfr,\n",
        "    estimatorParamMaps=grid,\n",
        "    evaluator=evaluator,\n",
        "    numFolds =3,\n",
        ")"
      ],
      "metadata": {
        "id": "9x2cMQW-1AQI"
      },
      "execution_count": null,
      "outputs": []
    },
    {
      "cell_type": "code",
      "source": [
        "modelo_rfr_cv = rfr_cv.fit(treino)"
      ],
      "metadata": {
        "id": "8XQe3jvv1Cq0"
      },
      "execution_count": null,
      "outputs": []
    },
    {
      "cell_type": "code",
      "source": [
        "previsoes_rfr_cv_teste = modelo_rfr_cv.transform(teste)"
      ],
      "metadata": {
        "id": "6IDtAELZ1Fns"
      },
      "execution_count": null,
      "outputs": []
    },
    {
      "cell_type": "code",
      "source": [
        "print(\"Linear Regression\")\n",
        "print(\"=\"*30)\n",
        "print(\"Dados de Treino\")\n",
        "print(\"=\"*30)\n",
        "print(\"R2: %f\" % evaluator.evaluate(previsoes_rfr_teste,{evaluator.metricName: \"r2\"}))\n",
        "print(\"RMSE: %f\" % evaluator.evaluate(previsoes_rfr_teste,{evaluator.metricName: \"rmse\"}))\n",
        "print(\"\")\n",
        "print(\"=\"*30)\n",
        "print(\"Dados de Teste\")\n",
        "print(\"=\"*30)\n",
        "print(\"R2: %f\" % evaluator.evaluate(previsoes_rfr_cv_teste,{evaluator.metricName: \"r2\"}))\n",
        "print(\"RMSE: %f\" % evaluator.evaluate(previsoes_rfr_cv_teste,{evaluator.metricName: \"rmse\"}))"
      ],
      "metadata": {
        "colab": {
          "base_uri": "https://localhost:8080/"
        },
        "id": "wN5vug2f1Iiu",
        "outputId": "6e13eb93-2997-4d4e-bef9-48a06bc48248"
      },
      "execution_count": null,
      "outputs": [
        {
          "output_type": "stream",
          "name": "stdout",
          "text": [
            "Linear Regression\n",
            "==============================\n",
            "Dados de Treino\n",
            "==============================\n",
            "R2: 0.825038\n",
            "RMSE: 628535.671746\n",
            "\n",
            "==============================\n",
            "Dados de Teste\n",
            "==============================\n",
            "R2: 0.893407\n",
            "RMSE: 490595.142623\n"
          ]
        }
      ]
    },
    {
      "cell_type": "code",
      "source": [],
      "metadata": {
        "id": "giOODUfR1LV7"
      },
      "execution_count": null,
      "outputs": []
    }
  ],
  "metadata": {
    "colab": {
      "provenance": []
    },
    "kernelspec": {
      "display_name": "Python 3",
      "language": "python",
      "name": "python3"
    },
    "language_info": {
      "codemirror_mode": {
        "name": "ipython",
        "version": 3
      },
      "file_extension": ".py",
      "mimetype": "text/x-python",
      "name": "python",
      "nbconvert_exporter": "python",
      "pygments_lexer": "ipython3",
      "version": "3.8.8"
    }
  },
  "nbformat": 4,
  "nbformat_minor": 0
}